{
 "cells": [
  {
   "cell_type": "markdown",
   "metadata": {},
   "source": [
    "# Gestion des entrées sorties"
   ]
  },
  {
   "cell_type": "markdown",
   "metadata": {},
   "source": [
    "## Les commentaires"
   ]
  },
  {
   "cell_type": "code",
   "execution_count": 5,
   "metadata": {},
   "outputs": [
    {
     "name": "stdout",
     "output_type": "stream",
     "text": [
      "Ceci n'est pas un commentaire\n",
      "# ici c'est une chaine de caractères et non un commentaire\n"
     ]
    }
   ],
   "source": [
    "# Ceci est un commentaire\n",
    "print(\"Ceci n'est pas un commentaire\") # Mais ceci en est un\n",
    "\"\"\"\n",
    "Et voici\n",
    "un \n",
    "commentaire\n",
    "sur plusieurs lignes\n",
    "\"\"\"\n",
    "print(\"# ici c'est une chaine de caractères et non un commentaire\")"
   ]
  },
  {
   "cell_type": "markdown",
   "metadata": {},
   "source": [
    "## La fonction print()"
   ]
  },
  {
   "cell_type": "code",
   "execution_count": 10,
   "metadata": {},
   "outputs": [
    {
     "name": "stdout",
     "output_type": "stream",
     "text": [
      "Bonjour\n",
      "à\n",
      "tous\n",
      "Bonjour à tous\n",
      "Bonjour\tà\ttous\n",
      "Bonjour\n",
      "à\n",
      "tous\n",
      "Bonjouràtous\n"
     ]
    }
   ],
   "source": [
    "print(\"Bonjour\")\n",
    "print(\"à\")\n",
    "print(\"tous\")\n",
    "print(\"Bonjour\", \"à\", \"tous\")\n",
    "print(\"Bonjour\", \"à\", \"tous\", sep='\\t')\n",
    "print(\"Bonjour\", \"à\", \"tous\", sep='\\n')\n",
    "print(\"Bonjour\", end=\"\")\n",
    "print(\"à\", end=\"\")\n",
    "print(\"tous\")"
   ]
  },
  {
   "cell_type": "markdown",
   "metadata": {},
   "source": [
    "## La fonction input()"
   ]
  },
  {
   "cell_type": "code",
   "execution_count": 12,
   "metadata": {},
   "outputs": [
    {
     "name": "stdout",
     "output_type": "stream",
     "text": [
      "Vous vous appelez Tom et vous avez 22 ans\n"
     ]
    }
   ],
   "source": [
    "nom = input(\"Quel est votre nom ?\")\n",
    "age = input(\"Quel est votre age ?\")\n",
    "type(nom)\n",
    "type(age)\n",
    "print(\"Vous vous appelez\", nom, \"et vous avez\", age, \"ans\")"
   ]
  },
  {
   "cell_type": "markdown",
   "metadata": {},
   "source": [
    "## Sortie standard et sortie standard d'erreur"
   ]
  },
  {
   "cell_type": "code",
   "execution_count": 14,
   "metadata": {},
   "outputs": [
    {
     "name": "stdout",
     "output_type": "stream",
     "text": [
      "J'écris sur la sortie standard\n"
     ]
    },
    {
     "name": "stderr",
     "output_type": "stream",
     "text": [
      "J'écris sur la sortie standard d'erreur\n"
     ]
    }
   ],
   "source": [
    "import sys\n",
    "print(\"J'écris sur la sortie standard\", file=sys.stdout)\n",
    "print(\"J'écris sur la sortie standard d'erreur\", file=sys.stderr)"
   ]
  }
 ],
 "metadata": {
  "kernelspec": {
   "display_name": "Python 3",
   "language": "python",
   "name": "python3"
  },
  "language_info": {
   "codemirror_mode": {
    "name": "ipython",
    "version": 3
   },
   "file_extension": ".py",
   "mimetype": "text/x-python",
   "name": "python",
   "nbconvert_exporter": "python",
   "pygments_lexer": "ipython3",
   "version": "3.12.4"
  }
 },
 "nbformat": 4,
 "nbformat_minor": 2
}
