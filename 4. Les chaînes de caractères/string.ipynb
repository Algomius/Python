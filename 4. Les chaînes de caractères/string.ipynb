{
 "cells": [
  {
   "cell_type": "markdown",
   "metadata": {},
   "source": [
    "# Les chaînes de caractères"
   ]
  },
  {
   "cell_type": "markdown",
   "metadata": {},
   "source": [
    "## Généralité sur les caractères\n",
    "- Concaténation de chaînes de caractères\n",
    "- Concaténation des éléments d'une liste avec un séparateur\n",
    "- Opérations entre chaînes et entier (répétition de caractère)\n",
    "- Gestion de la casse (tout en majuscule, tout en minuscule)\n"
   ]
  },
  {
   "cell_type": "code",
   "execution_count": 3,
   "metadata": {},
   "outputs": [
    {
     "name": "stdout",
     "output_type": "stream",
     "text": [
      "voiciunmessage\n",
      "voiciunmessage\n",
      "voiciunmessagevoiciunmessage\n",
      "une;petite;phrase\n",
      "********************\n",
      "bob\n",
      "BOB\n"
     ]
    }
   ],
   "source": [
    "str1 = 'voici' 'un' 'message'\n",
    "print(str1)\n",
    "str2 = 'voici' + 'un' + 'message'\n",
    "print(str2)\n",
    "str3 = str1 + str2\n",
    "print(str3)\n",
    "\n",
    "\n",
    "str4 = ';'.join(['une', 'petite', 'phrase'])\n",
    "print(str4)\n",
    "\n",
    "str5 = '*' * 20\n",
    "print(str5)\n",
    "\n",
    "print('Bob'.lower())\n",
    "print('Bob'.upper())"
   ]
  },
  {
   "cell_type": "markdown",
   "metadata": {},
   "source": [
    "## Codification et conversion des caractères\n",
    "- Récupération du code ascii d'un caractère\n",
    "- Utilisation du codage ascii pour la gestion de casse\n",
    "- Conversion de type a base de chaîne de caractères"
   ]
  },
  {
   "cell_type": "code",
   "execution_count": 7,
   "metadata": {},
   "outputs": [
    {
     "name": "stdout",
     "output_type": "stream",
     "text": [
      "Ord a 97 ord A 65 type <class 'int'>\n",
      "Chr a a chr A A type <class 'str'>\n",
      "C type <class 'str'>\n",
      "c type <class 'str'>\n",
      "Entier1 123 <class 'int'>\n",
      "Decimal1 123.56 <class 'float'>\n",
      "str3 123 <class 'str'>\n"
     ]
    }
   ],
   "source": [
    "orda = ord('a')\n",
    "ordA = ord('A')\n",
    "print(\"Ord a\", orda, \"ord A\", ordA, 'type', type(orda))\n",
    "\n",
    "chara = chr(orda)\n",
    "charA = chr(ordA)\n",
    "print(\"Chr a\", chara, \"chr A\", charA, 'type', type(chara))\n",
    "\n",
    "str1 = chr(ord('c') - ord('a') + ord('A'))\n",
    "print(str1, \"type\", type(str1))\n",
    "\n",
    "str2 = chr(ord('C') - ord('A') + ord('a'))\n",
    "print(str2, \"type\", type(str2))\n",
    "\n",
    "entier1 = int(\"123\")\n",
    "print(\"Entier1\", entier1, type(entier1))\n",
    "\n",
    "decimal1 = float(\"123.56\")\n",
    "print(\"Decimal1\", decimal1, type(decimal1))\n",
    "\n",
    "str3 = str(entier1)\n",
    "print(\"str3\", str3, type(str3))\n",
    "\n"
   ]
  },
  {
   "cell_type": "markdown",
   "metadata": {},
   "source": [
    "## Chaînes formattées\n",
    "- Utilisation d'une chaîne de caractères formattée\n",
    "- Utilisation de la fonction format()"
   ]
  },
  {
   "cell_type": "code",
   "execution_count": 16,
   "metadata": {},
   "outputs": [
    {
     "name": "stdout",
     "output_type": "stream",
     "text": [
      "12 mois dans l'année. J'aime les bananes\n",
      "Les Mots Ordonnés\n",
      "Mots Ordonnés Les\n",
      "Je m'appelle Bob Marley\n",
      "Affichage d'un nombre décimal 2.13\n",
      "Affichage d'un nombre à taille fixe 0000000001\n",
      "c Séparation b d'une chaine a\n"
     ]
    }
   ],
   "source": [
    "entier1 = 12\n",
    "str1 = \"bananes\"\n",
    "\n",
    "print(f\"{entier1} mois dans l'année. J'aime les {str1}\")\n",
    "\n",
    "print(\"{} {} {}\".format(\"Les\", \"Mots\", \"Ordonnés\"))\n",
    "print(\"{1} {2} {0}\".format(\"Les\", \"Mots\", \"Ordonnés\"))\n",
    "print(\"Je m'appelle {prenom} {nom}\".format(nom=\"Marley\", prenom=\"Bob\"))\n",
    "\n",
    "print(\"Affichage d'un nombre décimal {truc:.2f}\".format(truc=2.12548))\n",
    "print(\"Affichage d'un nombre à taille fixe {:010d}\".format(1))\n",
    "print(\"{2} Séparation {1} d'une chaine {0}\".format(*\"abcd\"))\n"
   ]
  },
  {
   "cell_type": "markdown",
   "metadata": {},
   "source": [
    "## Utilisation d'un template"
   ]
  },
  {
   "cell_type": "code",
   "execution_count": 19,
   "metadata": {},
   "outputs": [
    {
     "name": "stdout",
     "output_type": "stream",
     "text": [
      "Bob aime les chats et Kim aime les chiens\n",
      "Bob aime les chats et $toi aime les chiens\n"
     ]
    }
   ],
   "source": [
    "from string import Template\n",
    "s = Template(\"$moi aime les chats et $toi aime les chiens\")\n",
    "print(s.substitute(moi=\"Bob\", toi=\"Kim\"))\n",
    "#print(s.substitute(moi=\"Bob\"))\n",
    "print(s.safe_substitute(moi=\"Bob\"))\n"
   ]
  },
  {
   "cell_type": "markdown",
   "metadata": {},
   "source": [
    "## Evaluer une expression"
   ]
  },
  {
   "cell_type": "code",
   "execution_count": 23,
   "metadata": {},
   "outputs": [
    {
     "name": "stdout",
     "output_type": "stream",
     "text": [
      "Evaluation d'une addition 13\n",
      "Evaluation d'une concaténation Ab\n",
      "print(entier1)\n",
      "6\n"
     ]
    }
   ],
   "source": [
    "entier1 = 6\n",
    "print(\"Evaluation d'une addition\", eval(\"entier1 + 7\"))\n",
    "print(\"Evaluation d'une concaténation\", eval(\"'a'.upper() + 'b'.lower()\"))\n",
    "strCmd = \"print\"\n",
    "strCmd += \"(\"\n",
    "strCmd += \"entier1\"\n",
    "strCmd += \")\" \n",
    "print(strCmd)\n",
    "eval(strCmd)"
   ]
  },
  {
   "cell_type": "markdown",
   "metadata": {},
   "source": [
    "## Mise en pratique du formattage"
   ]
  },
  {
   "cell_type": "code",
   "execution_count": 5,
   "metadata": {},
   "outputs": [
    {
     "name": "stdout",
     "output_type": "stream",
     "text": [
      "Marteau                                            -       7.00\n",
      "Tourne-vis                                         -      11.00\n",
      "Scie                                               -      16.00\n",
      "Tondeuse à gazon                                   -     124.00\n"
     ]
    }
   ],
   "source": [
    "article = [(\"Marteau\", 7), (\"Tourne-vis\", 11), (\"Scie\", 16), (\"Tondeuse à gazon\", 124)]\n",
    "\n",
    "for i,j in article:\n",
    "    print(\"{designation:50s} - {prix:10.2f}\".format(designation = i, prix=j))"
   ]
  }
 ],
 "metadata": {
  "kernelspec": {
   "display_name": "Python 3",
   "language": "python",
   "name": "python3"
  },
  "language_info": {
   "codemirror_mode": {
    "name": "ipython",
    "version": 3
   },
   "file_extension": ".py",
   "mimetype": "text/x-python",
   "name": "python",
   "nbconvert_exporter": "python",
   "pygments_lexer": "ipython3",
   "version": "3.12.4"
  }
 },
 "nbformat": 4,
 "nbformat_minor": 2
}
