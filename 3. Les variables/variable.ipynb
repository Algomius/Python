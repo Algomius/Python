{
 "cells": [
  {
   "cell_type": "markdown",
   "metadata": {},
   "source": [
    "# Variables et types"
   ]
  },
  {
   "cell_type": "markdown",
   "metadata": {},
   "source": [
    "## Généralité sur les variables :\n",
    "- Déclarer une variable\n",
    "- Analyser son type\n",
    "- Réaffecter une valeur d'un autre type\n",
    "- Utiliser un mot clé du langage"
   ]
  },
  {
   "cell_type": "code",
   "execution_count": 26,
   "metadata": {},
   "outputs": [
    {
     "data": {
      "text/plain": [
       "float"
      ]
     },
     "execution_count": 26,
     "metadata": {},
     "output_type": "execute_result"
    }
   ],
   "source": [
    "a = 5\n",
    "type(a)\n",
    "a = 3.5\n",
    "type(a)\n",
    "#while = 7\n",
    "#type(while)\n"
   ]
  },
  {
   "cell_type": "markdown",
   "metadata": {},
   "source": [
    "## Les différents types numériques\n",
    "- entier\n",
    "- réel\n",
    "- booléen"
   ]
  },
  {
   "cell_type": "code",
   "execution_count": 27,
   "metadata": {},
   "outputs": [
    {
     "data": {
      "text/plain": [
       "(int, float, float, bool)"
      ]
     },
     "execution_count": 27,
     "metadata": {},
     "output_type": "execute_result"
    }
   ],
   "source": [
    "a = 5\n",
    "b = 2.7\n",
    "c = 5.0\n",
    "d = True\n",
    "type(a), type(b), type(c), type(d) "
   ]
  },
  {
   "cell_type": "markdown",
   "metadata": {},
   "source": [
    "# Affectation\n",
    "- Affectation mutliple\n",
    "- Echange de valeurs\n",
    "- Affectation multiple de valeur identique"
   ]
  },
  {
   "cell_type": "code",
   "execution_count": 28,
   "metadata": {},
   "outputs": [
    {
     "name": "stdout",
     "output_type": "stream",
     "text": [
      "5 7 9\n",
      "7 5 9\n",
      "11 11 11\n"
     ]
    }
   ],
   "source": [
    "v1, v2, v3 = 5, 7, 9\n",
    "print(v1, v2, v3)\n",
    "\n",
    "v1, v2 = v2, v1\n",
    "print(v1, v2, v3)\n",
    "\n",
    "v1 = v2 = v3 = 11\n",
    "print(v1, v2, v3)"
   ]
  },
  {
   "cell_type": "markdown",
   "metadata": {},
   "source": [
    "## Nombres entiers\n",
    "- Visualisons les types des résultats des opérations de base"
   ]
  },
  {
   "cell_type": "code",
   "execution_count": 29,
   "metadata": {},
   "outputs": [
    {
     "name": "stdout",
     "output_type": "stream",
     "text": [
      "Entier3 5 <class 'int'>\n",
      "Resultat1 0.6666666666666666 <class 'float'>\n",
      "Resultat2 0 <class 'int'>\n",
      "Resultat3 2 <class 'int'>\n",
      "Solution 0 <class 'int'> reste 2 <class 'int'>\n"
     ]
    }
   ],
   "source": [
    "entier1 = 2\n",
    "entier2 = 3\n",
    "entier3 = entier1 + entier2\n",
    "print('Entier3', entier3, type(entier3))\n",
    "\n",
    "# le résultat devient un décimal\n",
    "resultat1 = entier1 / entier2\n",
    "print('Resultat1', resultat1, type(resultat1))\n",
    "\n",
    "# Résultat de la division entière\n",
    "resultat2 = entier1 // entier2\n",
    "print('Resultat2', resultat2, type(resultat2))\n",
    "\n",
    "# Reste de la division entière\n",
    "resultat3 = entier1 % entier2\n",
    "print('Resultat3', resultat3, type(resultat3))\n",
    "\n",
    "# Solution et Reste\n",
    "resultat4, resultat5 = divmod(entier1, entier2)\n",
    "print('Solution', resultat4, type(resultat4), 'reste', resultat5, type(resultat5))"
   ]
  },
  {
   "cell_type": "markdown",
   "metadata": {},
   "source": [
    "## Nombres réels\n",
    "- Visualisons les types des résultats des opérations de base"
   ]
  },
  {
   "cell_type": "code",
   "execution_count": 30,
   "metadata": {},
   "outputs": [
    {
     "name": "stdout",
     "output_type": "stream",
     "text": [
      "Decimal3 6.1 <class 'float'>\n",
      "Decimal4 7.0 <class 'float'>\n",
      "Decimal5 9.0 <class 'float'>\n",
      "Resultat1 0.6944444444444444 <class 'float'>\n",
      "Resultat2 0.0 <class 'float'>\n",
      "Resultat3 2.5 <class 'float'>\n",
      "Solution 0.0 <class 'float'> reste 2.5 <class 'float'>\n"
     ]
    }
   ],
   "source": [
    "decimal1 = 2.5\n",
    "decimal2 = 3.6\n",
    "decimal3 = decimal1 + decimal2\n",
    "print('Decimal3', decimal3, type(decimal3))\n",
    "\n",
    "decimal4 = float(7)\n",
    "print('Decimal4', decimal4, type(decimal4))\n",
    "\n",
    "decimal5 = 9.0\n",
    "print('Decimal5', decimal5, type(decimal5))\n",
    "\n",
    "resultat1 = decimal1 / decimal2\n",
    "print('Resultat1', resultat1, type(resultat1))\n",
    "\n",
    "# Résultat de la division entière\n",
    "resultat2 = decimal1 // decimal2\n",
    "print('Resultat2', resultat2, type(resultat2))\n",
    "\n",
    "# Reste de la division entière\n",
    "resultat3 = decimal1 % decimal2\n",
    "print('Resultat3', resultat3, type(resultat3))\n",
    "\n",
    "# Solution et Reste\n",
    "resultat4, resultat5 = divmod(decimal1, decimal2)\n",
    "print('Solution', resultat4, type(resultat4), 'reste', resultat5, type(resultat5))"
   ]
  },
  {
   "cell_type": "markdown",
   "metadata": {},
   "source": [
    "## Valeurs booléennes\n",
    "- Valeurs True et False\n",
    "- Opérateurs logiques : not, or, and\n",
    "- Affectation d'un test\n",
    "- Equivalence booléenne"
   ]
  },
  {
   "cell_type": "code",
   "execution_count": 31,
   "metadata": {},
   "outputs": [
    {
     "name": "stdout",
     "output_type": "stream",
     "text": [
      "Non Vrai False\n",
      "Non Faux True\n",
      "Opérateur et False\n",
      "Opérateur ou True\n",
      "ValeurBool1 True\n",
      "valeurBool2 False\n",
      "valeurBool3 True\n",
      "valeurBool4 False\n",
      "valeurBool5 False\n",
      "valeurBool6 False\n",
      "valeurBool7 True\n",
      "valeurBool8 False\n",
      "valeurBool9 True\n",
      "valeurBool10 False\n",
      "valeurBool11 True\n"
     ]
    }
   ],
   "source": [
    "valeurVrai = True\n",
    "valeurFaux = False\n",
    "\n",
    "print('Non Vrai', not valeurVrai)\n",
    "print('Non Faux', not valeurFaux)\n",
    "print('Opérateur et', valeurVrai and valeurFaux)\n",
    "print('Opérateur ou', valeurVrai or valeurFaux)\n",
    "\n",
    "valeurBool1 = 1 < 4\n",
    "print('ValeurBool1', valeurBool1)\n",
    "valeurBool2 = 1 > 4\n",
    "print('valeurBool2', valeurBool2)\n",
    "valeurBool3 = 2 == 2\n",
    "print('valeurBool3', valeurBool3)\n",
    "valeurBool4 = 2 != 2\n",
    "print('valeurBool4', valeurBool4)\n",
    "valeurBool5 = '2' < '14'\n",
    "print('valeurBool5', valeurBool5)\n",
    "\n",
    "# 0 est faux, le reste est vrai\n",
    "valeurBool6 = bool(0)\n",
    "print('valeurBool6', valeurBool6)\n",
    "valeurBool7 = bool(1)\n",
    "print('valeurBool7', valeurBool7)\n",
    "\n",
    "# Vide est faux, le reste est vrai\n",
    "valeurBool8 = bool('')\n",
    "print('valeurBool8', valeurBool8)\n",
    "valeurBool9 = bool('bla bla')\n",
    "print('valeurBool9', valeurBool9)\n",
    "valeurBool10 = bool([])\n",
    "print('valeurBool10', valeurBool10)\n",
    "valeurBool11 = bool([1, 2, 3])\n",
    "print('valeurBool11', valeurBool11)"
   ]
  },
  {
   "cell_type": "markdown",
   "metadata": {},
   "source": [
    "## Transtypage"
   ]
  },
  {
   "cell_type": "code",
   "execution_count": 32,
   "metadata": {},
   "outputs": [
    {
     "name": "stdout",
     "output_type": "stream",
     "text": [
      "5 converti en decimal 5.0\n",
      "3.6 converti en entier 3\n"
     ]
    }
   ],
   "source": [
    "entier1 = 5\n",
    "decimal1 = 3.6\n",
    "\n",
    "print(entier1, 'converti en decimal', float(entier1))\n",
    "print(decimal1, 'converti en entier', int(decimal1))"
   ]
  }
 ],
 "metadata": {
  "kernelspec": {
   "display_name": "Python 3",
   "language": "python",
   "name": "python3"
  },
  "language_info": {
   "codemirror_mode": {
    "name": "ipython",
    "version": 3
   },
   "file_extension": ".py",
   "mimetype": "text/x-python",
   "name": "python",
   "nbconvert_exporter": "python",
   "pygments_lexer": "ipython3",
   "version": "3.12.4"
  }
 },
 "nbformat": 4,
 "nbformat_minor": 2
}
