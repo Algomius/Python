{
 "cells": [
  {
   "cell_type": "markdown",
   "id": "2190eb89",
   "metadata": {},
   "source": [
    "# Structures conditionnelles"
   ]
  },
  {
   "cell_type": "markdown",
   "id": "db791337",
   "metadata": {},
   "source": [
    "## Les booléens\n",
    "- Déclarer un booléen\n",
    "- Vérifions le type de la variable\n",
    "- Les valeurs d'un booléens sont True et False, attention à la majuscule\n",
    "- L'ajout de double quotes tranforme la valeur booléenne True en chaine de caractères"
   ]
  },
  {
   "cell_type": "code",
   "execution_count": 5,
   "id": "c05f9777",
   "metadata": {},
   "outputs": [
    {
     "data": {
      "text/plain": [
       "str"
      ]
     },
     "execution_count": 5,
     "metadata": {},
     "output_type": "execute_result"
    }
   ],
   "source": [
    "varBooleenne = True\n",
    "type(varBooleenne)\n",
    "\n",
    "# varBooleenne2 = true # ne marche pas\n",
    "\n",
    "a = \"True\"\n",
    "type(a)"
   ]
  },
  {
   "cell_type": "markdown",
   "id": "81976a42",
   "metadata": {},
   "source": [
    "## Les opérateurs de comparaison\n",
    "- Permettent de mettre en évidence des égalités ou des inégalistés\n",
    "- Permettent de comparer les éléments entre eux\n",
    "- Stocker le résultat d'un test\n",
    "- Comparer des nombres, des chaînes de caractères, des booléens\n",
    "- Vous pouvez avoir des erreurs si vous comparez deux éléments qui ne sont pas du même type\n",
    "- Vous pouvez également comparer le contenu de deux variables"
   ]
  },
  {
   "cell_type": "code",
   "execution_count": 14,
   "id": "69db758c",
   "metadata": {},
   "outputs": [
    {
     "name": "stdout",
     "output_type": "stream",
     "text": [
      "True\n",
      "False\n",
      "True\n",
      "True\n",
      "True\n",
      "False\n",
      "False\n",
      "False\n"
     ]
    }
   ],
   "source": [
    "print(67 == 67)\n",
    "print(42 == 67)\n",
    "v = 42 != 36 # Le résultat du test est stocké dans la variable\n",
    "print(v)\n",
    "print(36 < 42)\n",
    "print(42 <= 42)\n",
    "\n",
    "print(\"99\"<\"100\") # La comparaison entre deux chaînes se base sur l'ordre alphabétique\n",
    "print(True == False)\n",
    "\n",
    "# print(\"Coucou\" < 5) # Ne marche pas, il n'y aucune reègle qui permet de comparer une chaîne de caractère et un entier\n",
    "\n",
    "var1 = 42\n",
    "var2 = 54\n",
    "print(var1 == var2)\n"
   ]
  },
  {
   "cell_type": "markdown",
   "id": "5214a61e",
   "metadata": {},
   "source": [
    "## Les opérateurs booléens\n",
    "- Et logique\n",
    "- Ou logique\n",
    "- Non logique\n",
    "- Création de conditions complexes"
   ]
  },
  {
   "cell_type": "code",
   "execution_count": 17,
   "id": "c52a78c7",
   "metadata": {},
   "outputs": [
    {
     "name": "stdout",
     "output_type": "stream",
     "text": [
      "True\n",
      "False\n",
      "True\n",
      "False\n",
      "False\n",
      "True\n",
      "False\n",
      "True\n",
      "True\n"
     ]
    }
   ],
   "source": [
    "print(True and True)\n",
    "print(True and False)\n",
    "\n",
    "print(True or False)\n",
    "print(False or False)\n",
    "\n",
    "print(not True)\n",
    "print(not not True)\n",
    "print(not not not True)\n",
    "\n",
    "print((2+ 2 == 4) or (2 + 2 == 5))\n",
    "age = 35\n",
    "print((age >= 18) and (age <= 67))"
   ]
  },
  {
   "cell_type": "markdown",
   "id": "35cd456d",
   "metadata": {},
   "source": [
    "## Conditions simples et notion de blocs\n",
    "- Le bloc est marqué par l'indetation"
   ]
  },
  {
   "cell_type": "code",
   "execution_count": 19,
   "id": "de7e5d17",
   "metadata": {},
   "outputs": [
    {
     "name": "stdout",
     "output_type": "stream",
     "text": [
      "Je suis dans le bloc\n",
      "Moi aussi\n",
      "Moi je n'y suis pas\n"
     ]
    }
   ],
   "source": [
    "affichage = True\n",
    "if (affichage == True):\n",
    "\tprint(\"Je suis dans le bloc\")\n",
    "\tprint(\"Moi aussi\")\n",
    "print(\"Moi je n'y suis pas\")\n",
    "\n"
   ]
  },
  {
   "cell_type": "markdown",
   "id": "324d298e",
   "metadata": {},
   "source": [
    "- Nombre pair et nombre impair"
   ]
  },
  {
   "cell_type": "code",
   "execution_count": null,
   "id": "23fadc24",
   "metadata": {},
   "outputs": [
    {
     "name": "stdout",
     "output_type": "stream",
     "text": [
      "Le nombre est pair\n"
     ]
    }
   ],
   "source": [
    "a = 6\n",
    "if (a%2 == 0):\n",
    "    print(\"Le nombre est pair\")\n",
    "else:\n",
    "    print(\"Le nombre est impair\")\n",
    "print(\"Programme terminé\")"
   ]
  },
  {
   "cell_type": "markdown",
   "id": "e8f66a2c",
   "metadata": {},
   "source": [
    "- Année bissextile"
   ]
  },
  {
   "cell_type": "code",
   "execution_count": 25,
   "id": "0c42d11c",
   "metadata": {},
   "outputs": [
    {
     "name": "stdout",
     "output_type": "stream",
     "text": [
      "Année bissextile\n"
     ]
    }
   ],
   "source": [
    "annee = int(input(\"Donner une année\"))\n",
    "if ((annee % 400 == 0) or (annee%4 == 0 and annee%100 != 0) ):\n",
    "    print(\"Année bissextile\")\n",
    "else:\n",
    "    print(\"Année non bissextile\")"
   ]
  },
  {
   "cell_type": "markdown",
   "id": "6bfc2737",
   "metadata": {},
   "source": [
    "- Utilisations de conditions multiples sur l'age"
   ]
  },
  {
   "cell_type": "code",
   "execution_count": 37,
   "id": "951bb58d",
   "metadata": {},
   "outputs": [
    {
     "name": "stdout",
     "output_type": "stream",
     "text": [
      "Adulte\n"
     ]
    }
   ],
   "source": [
    "age = int(input(\"Donner votre âge : \"))\n",
    "if age < 3 :\n",
    "\tprint(\"Bébé\")\n",
    "elif age < 12:\n",
    "\tprint(\"Enfant\")\n",
    "elif age < 18:\n",
    "\tprint(\"Ado\")\n",
    "elif age < 70 :\n",
    "\tprint(\"Adulte\")\n",
    "else :\n",
    "\tprint(\"Vieux\")\n"
   ]
  },
  {
   "cell_type": "markdown",
   "id": "30923de2",
   "metadata": {},
   "source": [
    "## Exemple pratique\n",
    "- Voiture intéressante ou pas ?"
   ]
  },
  {
   "cell_type": "code",
   "execution_count": 36,
   "id": "09bc0138",
   "metadata": {},
   "outputs": [
    {
     "name": "stdout",
     "output_type": "stream",
     "text": [
      "Voiture pas intéressante\n"
     ]
    }
   ],
   "source": [
    "annee = int(input(\"Donner l'année : \"))\n",
    "km = int(input(\"Nombre de km : \"))\n",
    "prix = float(input(\"Prix du véhicule : \"))\n",
    "etatTxt = input(\"Etat du véhicule : \")\n",
    "etat = False\n",
    "\n",
    "if etatTxt == \"bon\":\n",
    "    etat = True\n",
    "\n",
    "if prix < 10000 and etat == True:\n",
    "    print(\"Voiture intéressante\")\n",
    "elif prix > 10000 and etat == True and km < 100000 and 2025-annee <= 3:\n",
    "    print(\"Voiture intéressante\")\n",
    "else:\n",
    "    print(\"Voiture pas intéressante\")"
   ]
  }
 ],
 "metadata": {
  "kernelspec": {
   "display_name": "Python 3",
   "language": "python",
   "name": "python3"
  },
  "language_info": {
   "codemirror_mode": {
    "name": "ipython",
    "version": 3
   },
   "file_extension": ".py",
   "mimetype": "text/x-python",
   "name": "python",
   "nbconvert_exporter": "python",
   "pygments_lexer": "ipython3",
   "version": "3.12.4"
  }
 },
 "nbformat": 4,
 "nbformat_minor": 5
}
