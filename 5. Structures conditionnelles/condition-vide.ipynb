{
 "cells": [
  {
   "cell_type": "markdown",
   "id": "2190eb89",
   "metadata": {},
   "source": [
    "# Structures conditionnelles"
   ]
  },
  {
   "cell_type": "markdown",
   "id": "db791337",
   "metadata": {},
   "source": [
    "## Les booléens\n",
    "- Déclarer un booléen\n",
    "- Vérifions le type de la variable\n",
    "- Les valeurs d'un booléens sont True et False, attention à la majuscule\n",
    "- L'ajout de double quotes tranforme la valeur booléenne True en chaine de caractères"
   ]
  },
  {
   "cell_type": "code",
   "execution_count": null,
   "id": "c05f9777",
   "metadata": {},
   "outputs": [],
   "source": []
  },
  {
   "cell_type": "markdown",
   "id": "81976a42",
   "metadata": {},
   "source": [
    "## Les opérateurs de comparaison\n",
    "- Permettent de mettre en évidence des égalités ou des inégalistés\n",
    "- Permettent de comparer les éléments entre eux\n",
    "- Stocker le résultat d'un test\n",
    "- Comparer des nombres, des chaînes de caractères, des booléens\n",
    "- Vous pouvez avoir des erreurs si vous comparez deux éléments qui ne sont pas du même type\n",
    "- Vous pouvez également comparer le contenu de deux variables"
   ]
  },
  {
   "cell_type": "code",
   "execution_count": null,
   "id": "69db758c",
   "metadata": {},
   "outputs": [],
   "source": []
  },
  {
   "cell_type": "markdown",
   "id": "5214a61e",
   "metadata": {},
   "source": [
    "## Les opérateurs booléens\n",
    "- Et logique\n",
    "- Ou logique\n",
    "- Non logique\n",
    "- Création de conditions complexes"
   ]
  },
  {
   "cell_type": "code",
   "execution_count": null,
   "id": "c52a78c7",
   "metadata": {},
   "outputs": [],
   "source": []
  },
  {
   "cell_type": "markdown",
   "id": "35cd456d",
   "metadata": {},
   "source": [
    "## Conditions simples et notion de blocs\n",
    "- Le bloc est marqué par l'indetation"
   ]
  },
  {
   "cell_type": "code",
   "execution_count": null,
   "id": "de7e5d17",
   "metadata": {},
   "outputs": [],
   "source": []
  },
  {
   "cell_type": "markdown",
   "id": "324d298e",
   "metadata": {},
   "source": [
    "- Nombre pair et nombre impair"
   ]
  },
  {
   "cell_type": "code",
   "execution_count": null,
   "id": "23fadc24",
   "metadata": {},
   "outputs": [],
   "source": []
  },
  {
   "cell_type": "markdown",
   "id": "e8f66a2c",
   "metadata": {},
   "source": [
    "- Année bissextile"
   ]
  },
  {
   "cell_type": "code",
   "execution_count": null,
   "id": "0c42d11c",
   "metadata": {},
   "outputs": [],
   "source": []
  },
  {
   "cell_type": "markdown",
   "id": "6bfc2737",
   "metadata": {},
   "source": [
    "- Utilisations de conditions multiples sur l'age"
   ]
  },
  {
   "cell_type": "code",
   "execution_count": null,
   "id": "951bb58d",
   "metadata": {},
   "outputs": [],
   "source": []
  },
  {
   "cell_type": "markdown",
   "id": "30923de2",
   "metadata": {},
   "source": [
    "## Exemple pratique\n",
    "- Voiture intéressante ou pas ?"
   ]
  },
  {
   "cell_type": "code",
   "execution_count": null,
   "id": "09bc0138",
   "metadata": {},
   "outputs": [],
   "source": []
  }
 ],
 "metadata": {
  "kernelspec": {
   "display_name": "Python 3",
   "language": "python",
   "name": "python3"
  },
  "language_info": {
   "codemirror_mode": {
    "name": "ipython",
    "version": 3
   },
   "file_extension": ".py",
   "mimetype": "text/x-python",
   "name": "python",
   "nbconvert_exporter": "python",
   "pygments_lexer": "ipython3",
   "version": "3.12.4"
  }
 },
 "nbformat": 4,
 "nbformat_minor": 5
}
