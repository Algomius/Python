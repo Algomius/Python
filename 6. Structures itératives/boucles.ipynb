{
 "cells": [
  {
   "cell_type": "markdown",
   "id": "5e8b259e",
   "metadata": {},
   "source": [
    "# Structures itératives - boucles"
   ]
  },
  {
   "cell_type": "markdown",
   "id": "3bf6e942",
   "metadata": {},
   "source": [
    "## Utilisation de la boucle While \n",
    "- Afficher les 10 premiers nombres sans boucle - Quelle galère\n",
    "- Que faut-il modifier pour écrire les 1000 premiers nombres ?"
   ]
  },
  {
   "cell_type": "code",
   "execution_count": 1,
   "id": "a66a5cb9",
   "metadata": {},
   "outputs": [
    {
     "name": "stdout",
     "output_type": "stream",
     "text": [
      "1\n",
      "2\n",
      "3\n",
      "4\n",
      "5\n",
      "6\n",
      "7\n",
      "8\n",
      "9\n",
      "10\n"
     ]
    }
   ],
   "source": [
    "print(\"1\")\n",
    "print(\"2\")\n",
    "print(\"3\")\n",
    "print(\"4\")\n",
    "print(\"5\")\n",
    "print(\"6\")\n",
    "print(\"7\")\n",
    "print(\"8\")\n",
    "print(\"9\")\n",
    "print(\"10\")"
   ]
  },
  {
   "cell_type": "markdown",
   "id": "47dd2bcb",
   "metadata": {},
   "source": [
    "- Afficher 10 fois bonjour\n",
    "- Que faut-il modifier pour écrire 1000 fois bonjour ?"
   ]
  },
  {
   "cell_type": "code",
   "execution_count": 4,
   "id": "13b6a6e2",
   "metadata": {},
   "outputs": [
    {
     "name": "stdout",
     "output_type": "stream",
     "text": [
      "Bonjour\n",
      "Bonjour\n",
      "Bonjour\n",
      "Bonjour\n",
      "Bonjour\n",
      "Bonjour\n",
      "Bonjour\n",
      "Bonjour\n",
      "Bonjour\n",
      "Bonjour\n"
     ]
    }
   ],
   "source": [
    "cpt = 0\n",
    "while cpt < 10:\n",
    "    print(\"Bonjour\")\n",
    "    cpt = cpt + 1"
   ]
  },
  {
   "cell_type": "markdown",
   "id": "66144b39",
   "metadata": {},
   "source": [
    "- Afficher les 10 premiers nombres avec une boucle while\n",
    "- Que faut-il modifier pour écrire les 1000 premiers nombres ?"
   ]
  },
  {
   "cell_type": "code",
   "execution_count": 3,
   "id": "d336d19d",
   "metadata": {},
   "outputs": [
    {
     "name": "stdout",
     "output_type": "stream",
     "text": [
      "1\n",
      "2\n",
      "3\n",
      "4\n",
      "5\n",
      "6\n",
      "7\n",
      "8\n",
      "9\n",
      "10\n"
     ]
    }
   ],
   "source": [
    "cpt = 1\n",
    "while cpt <= 10:\n",
    "    print(cpt)\n",
    "    cpt = cpt + 1"
   ]
  },
  {
   "cell_type": "markdown",
   "id": "2a5a756a",
   "metadata": {},
   "source": [
    "- Un peu de musculation et quelques pompes "
   ]
  },
  {
   "cell_type": "code",
   "execution_count": null,
   "id": "3e6c23d6",
   "metadata": {},
   "outputs": [
    {
     "name": "stdout",
     "output_type": "stream",
     "text": [
      "J'ai fait une pompe !\n",
      "J'ai fait une pompe !\n",
      "J'ai fait une pompe !\n",
      "J'ai fait une pompe !\n",
      "J'ai fait une pompe !\n",
      "J'ai fait une pompe !\n",
      "J'ai fait une pompe !\n",
      "J'ai fait une pompe !\n",
      "J'ai fait une pompe !\n",
      "J'ai fait une pompe !\n",
      "J'ai fait une pompe !\n",
      "J'ai fait une pompe !\n",
      "J'ai fait une pompe !\n",
      "J'ai fait une pompe !\n",
      "J'ai fait une pompe !\n",
      "J'ai fini, je suis HS\n"
     ]
    }
   ],
   "source": [
    "ePompe = 10\n",
    "ePersonne = int(input(\"Donner votre énergie : \"))\n",
    "cptPompes = 0\n",
    "while ePersonne >= ePompe:\n",
    "    print(\"Je fais une pompe\")\n",
    "    ePersonne = ePersonne - ePompe\n",
    "    cptPompes = cptPompes + 1\n",
    "print(\"J'ai fini. J'ai fait\", cptPompes, \"pompes. Je suis HS!\")"
   ]
  },
  {
   "cell_type": "markdown",
   "id": "c8b58381",
   "metadata": {},
   "source": [
    "- Utilisation de break pour quitter une boucle"
   ]
  },
  {
   "cell_type": "code",
   "execution_count": null,
   "id": "b40d6213",
   "metadata": {},
   "outputs": [],
   "source": [
    "while True:\n",
    "    saisie = input(\"Saisissez quelque chose ('q' pour quitter) : \")\n",
    "    if saisie == 'q':\n",
    "        break"
   ]
  },
  {
   "cell_type": "markdown",
   "id": "91774362",
   "metadata": {},
   "source": [
    "- Utilisation de break et de continue pour relancer la boucle"
   ]
  },
  {
   "cell_type": "code",
   "execution_count": 7,
   "id": "e779d59f",
   "metadata": {},
   "outputs": [
    {
     "name": "stdout",
     "output_type": "stream",
     "text": [
      "Accès autorisé\n"
     ]
    }
   ],
   "source": [
    "while True:\n",
    "    saisie = input(\"Saisissez votre nom : \")\n",
    "    if saisie != 'Jo':\n",
    "        continue\n",
    "    mdp = input(\"Bonjour Jo, quel est ton mot de passe ? \")\n",
    "    if mdp == \"1234\":\n",
    "        break\n",
    "print(\"Accès autorisé\")"
   ]
  },
  {
   "cell_type": "markdown",
   "id": "be224c74",
   "metadata": {},
   "source": [
    "## Utilisation de la boucle for\n",
    "- Ecrire les nombre de 1 à 10"
   ]
  },
  {
   "cell_type": "code",
   "execution_count": 10,
   "id": "47bc14bf",
   "metadata": {},
   "outputs": [
    {
     "name": "stdout",
     "output_type": "stream",
     "text": [
      "0\n",
      "1\n",
      "2\n",
      "3\n",
      "4\n",
      "5\n",
      "6\n",
      "7\n",
      "8\n",
      "9\n",
      "10\n",
      "0\n",
      "1\n",
      "2\n",
      "3\n",
      "4\n",
      "5\n",
      "6\n",
      "7\n",
      "8\n",
      "9\n",
      "10\n"
     ]
    }
   ],
   "source": [
    "for i in range(0, 11, 1):\n",
    "    print(i)\n",
    "\n",
    "for i in range(11): #Equivalent en utilisant le debut à 0 et le pas à 1 qui sont des valeurs par défaut\n",
    "    print(i)"
   ]
  },
  {
   "cell_type": "markdown",
   "id": "8f61572a",
   "metadata": {},
   "source": [
    "- Nombres de 0 à 20"
   ]
  },
  {
   "cell_type": "code",
   "execution_count": 12,
   "id": "39325afd",
   "metadata": {},
   "outputs": [
    {
     "name": "stdout",
     "output_type": "stream",
     "text": [
      "0\n",
      "1\n",
      "2\n",
      "3\n",
      "4\n",
      "5\n",
      "6\n",
      "7\n",
      "8\n",
      "9\n",
      "10\n",
      "11\n",
      "12\n",
      "13\n",
      "14\n",
      "15\n",
      "16\n",
      "17\n",
      "18\n",
      "19\n",
      "20\n"
     ]
    }
   ],
   "source": [
    "for i in range(21):\n",
    "    print(i)"
   ]
  },
  {
   "cell_type": "markdown",
   "id": "43ccf6ed",
   "metadata": {},
   "source": [
    "- Nombres paires de 0 à 20"
   ]
  },
  {
   "cell_type": "code",
   "execution_count": 13,
   "id": "724120a4",
   "metadata": {},
   "outputs": [
    {
     "name": "stdout",
     "output_type": "stream",
     "text": [
      "0\n",
      "2\n",
      "4\n",
      "6\n",
      "8\n",
      "10\n",
      "12\n",
      "14\n",
      "16\n",
      "18\n",
      "20\n"
     ]
    }
   ],
   "source": [
    "for i in range(0, 21, 2):\n",
    "    print(i)"
   ]
  },
  {
   "cell_type": "markdown",
   "id": "b65b82ca",
   "metadata": {},
   "source": [
    "- Nombres de 20 à 0"
   ]
  },
  {
   "cell_type": "code",
   "execution_count": 14,
   "id": "4caf24ab",
   "metadata": {},
   "outputs": [
    {
     "name": "stdout",
     "output_type": "stream",
     "text": [
      "20\n",
      "19\n",
      "18\n",
      "17\n",
      "16\n",
      "15\n",
      "14\n",
      "13\n",
      "12\n",
      "11\n",
      "10\n",
      "9\n",
      "8\n",
      "7\n",
      "6\n",
      "5\n",
      "4\n",
      "3\n",
      "2\n",
      "1\n",
      "0\n"
     ]
    }
   ],
   "source": [
    "for i in range(20, -1, -1):\n",
    "    print(i)"
   ]
  },
  {
   "cell_type": "markdown",
   "id": "b039ea0e",
   "metadata": {},
   "source": [
    "## Boucle imbriquées\n",
    "- Tables de multiplication avec 2 boucles for"
   ]
  },
  {
   "cell_type": "code",
   "execution_count": 15,
   "id": "110c91b2",
   "metadata": {},
   "outputs": [
    {
     "name": "stdout",
     "output_type": "stream",
     "text": [
      "0  *  0  =  0\n",
      "0  *  1  =  0\n",
      "0  *  2  =  0\n",
      "0  *  3  =  0\n",
      "0  *  4  =  0\n",
      "0  *  5  =  0\n",
      "0  *  6  =  0\n",
      "0  *  7  =  0\n",
      "0  *  8  =  0\n",
      "0  *  9  =  0\n",
      "0  *  10  =  0\n",
      "1  *  0  =  0\n",
      "1  *  1  =  1\n",
      "1  *  2  =  2\n",
      "1  *  3  =  3\n",
      "1  *  4  =  4\n",
      "1  *  5  =  5\n",
      "1  *  6  =  6\n",
      "1  *  7  =  7\n",
      "1  *  8  =  8\n",
      "1  *  9  =  9\n",
      "1  *  10  =  10\n",
      "2  *  0  =  0\n",
      "2  *  1  =  2\n",
      "2  *  2  =  4\n",
      "2  *  3  =  6\n",
      "2  *  4  =  8\n",
      "2  *  5  =  10\n",
      "2  *  6  =  12\n",
      "2  *  7  =  14\n",
      "2  *  8  =  16\n",
      "2  *  9  =  18\n",
      "2  *  10  =  20\n",
      "3  *  0  =  0\n",
      "3  *  1  =  3\n",
      "3  *  2  =  6\n",
      "3  *  3  =  9\n",
      "3  *  4  =  12\n",
      "3  *  5  =  15\n",
      "3  *  6  =  18\n",
      "3  *  7  =  21\n",
      "3  *  8  =  24\n",
      "3  *  9  =  27\n",
      "3  *  10  =  30\n",
      "4  *  0  =  0\n",
      "4  *  1  =  4\n",
      "4  *  2  =  8\n",
      "4  *  3  =  12\n",
      "4  *  4  =  16\n",
      "4  *  5  =  20\n",
      "4  *  6  =  24\n",
      "4  *  7  =  28\n",
      "4  *  8  =  32\n",
      "4  *  9  =  36\n",
      "4  *  10  =  40\n",
      "5  *  0  =  0\n",
      "5  *  1  =  5\n",
      "5  *  2  =  10\n",
      "5  *  3  =  15\n",
      "5  *  4  =  20\n",
      "5  *  5  =  25\n",
      "5  *  6  =  30\n",
      "5  *  7  =  35\n",
      "5  *  8  =  40\n",
      "5  *  9  =  45\n",
      "5  *  10  =  50\n",
      "6  *  0  =  0\n",
      "6  *  1  =  6\n",
      "6  *  2  =  12\n",
      "6  *  3  =  18\n",
      "6  *  4  =  24\n",
      "6  *  5  =  30\n",
      "6  *  6  =  36\n",
      "6  *  7  =  42\n",
      "6  *  8  =  48\n",
      "6  *  9  =  54\n",
      "6  *  10  =  60\n",
      "7  *  0  =  0\n",
      "7  *  1  =  7\n",
      "7  *  2  =  14\n",
      "7  *  3  =  21\n",
      "7  *  4  =  28\n",
      "7  *  5  =  35\n",
      "7  *  6  =  42\n",
      "7  *  7  =  49\n",
      "7  *  8  =  56\n",
      "7  *  9  =  63\n",
      "7  *  10  =  70\n",
      "8  *  0  =  0\n",
      "8  *  1  =  8\n",
      "8  *  2  =  16\n",
      "8  *  3  =  24\n",
      "8  *  4  =  32\n",
      "8  *  5  =  40\n",
      "8  *  6  =  48\n",
      "8  *  7  =  56\n",
      "8  *  8  =  64\n",
      "8  *  9  =  72\n",
      "8  *  10  =  80\n",
      "9  *  0  =  0\n",
      "9  *  1  =  9\n",
      "9  *  2  =  18\n",
      "9  *  3  =  27\n",
      "9  *  4  =  36\n",
      "9  *  5  =  45\n",
      "9  *  6  =  54\n",
      "9  *  7  =  63\n",
      "9  *  8  =  72\n",
      "9  *  9  =  81\n",
      "9  *  10  =  90\n",
      "10  *  0  =  0\n",
      "10  *  1  =  10\n",
      "10  *  2  =  20\n",
      "10  *  3  =  30\n",
      "10  *  4  =  40\n",
      "10  *  5  =  50\n",
      "10  *  6  =  60\n",
      "10  *  7  =  70\n",
      "10  *  8  =  80\n",
      "10  *  9  =  90\n",
      "10  *  10  =  100\n"
     ]
    }
   ],
   "source": [
    "for i in range(11):\n",
    "    for j in range(11):\n",
    "        print(i, \" * \", j, \" = \", i*j)"
   ]
  }
 ],
 "metadata": {
  "kernelspec": {
   "display_name": "Python 3",
   "language": "python",
   "name": "python3"
  },
  "language_info": {
   "codemirror_mode": {
    "name": "ipython",
    "version": 3
   },
   "file_extension": ".py",
   "mimetype": "text/x-python",
   "name": "python",
   "nbconvert_exporter": "python",
   "pygments_lexer": "ipython3",
   "version": "3.12.4"
  }
 },
 "nbformat": 4,
 "nbformat_minor": 5
}
