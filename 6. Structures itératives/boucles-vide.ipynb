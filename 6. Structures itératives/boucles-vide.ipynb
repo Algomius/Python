{
 "cells": [
  {
   "cell_type": "markdown",
   "id": "5e8b259e",
   "metadata": {},
   "source": [
    "# Structures itératives - boucles"
   ]
  },
  {
   "cell_type": "markdown",
   "id": "3bf6e942",
   "metadata": {},
   "source": [
    "## Utilisation de la boucle While \n",
    "- Afficher les 10 premiers nombres sans boucle - Quelle galère\n",
    "- Que faut-il modifier pour écrire les 1000 premiers nombres ?"
   ]
  },
  {
   "cell_type": "code",
   "execution_count": null,
   "id": "a66a5cb9",
   "metadata": {},
   "outputs": [],
   "source": []
  },
  {
   "cell_type": "markdown",
   "id": "47dd2bcb",
   "metadata": {},
   "source": [
    "- Afficher 10 fois bonjour\n",
    "- Que faut-il modifier pour écrire 1000 fois bonjour ?"
   ]
  },
  {
   "cell_type": "code",
   "execution_count": null,
   "id": "13b6a6e2",
   "metadata": {},
   "outputs": [],
   "source": []
  },
  {
   "cell_type": "markdown",
   "id": "66144b39",
   "metadata": {},
   "source": [
    "- Afficher les 10 premiers nombres avec une boucle while\n",
    "- Que faut-il modifier pour écrire les 1000 premiers nombres ?"
   ]
  },
  {
   "cell_type": "code",
   "execution_count": null,
   "id": "d336d19d",
   "metadata": {},
   "outputs": [],
   "source": []
  },
  {
   "cell_type": "markdown",
   "id": "2a5a756a",
   "metadata": {},
   "source": [
    "- Un peu de musculation et quelques pompes "
   ]
  },
  {
   "cell_type": "code",
   "execution_count": null,
   "id": "3e6c23d6",
   "metadata": {},
   "outputs": [],
   "source": []
  },
  {
   "cell_type": "markdown",
   "id": "c8b58381",
   "metadata": {},
   "source": [
    "- Utilisation de break pour quitter une boucle"
   ]
  },
  {
   "cell_type": "code",
   "execution_count": null,
   "id": "b40d6213",
   "metadata": {},
   "outputs": [],
   "source": []
  },
  {
   "cell_type": "markdown",
   "id": "91774362",
   "metadata": {},
   "source": [
    "- Utilisation de break et de continue pour relancer la boucle"
   ]
  },
  {
   "cell_type": "code",
   "execution_count": null,
   "id": "e779d59f",
   "metadata": {},
   "outputs": [],
   "source": []
  },
  {
   "cell_type": "markdown",
   "id": "be224c74",
   "metadata": {},
   "source": [
    "## Utilisation de la boucle for\n",
    "- Ecrire les nombre de 1 à 10"
   ]
  },
  {
   "cell_type": "code",
   "execution_count": null,
   "id": "47bc14bf",
   "metadata": {},
   "outputs": [],
   "source": []
  },
  {
   "cell_type": "markdown",
   "id": "8f61572a",
   "metadata": {},
   "source": [
    "- Nombres de 0 à 20"
   ]
  },
  {
   "cell_type": "code",
   "execution_count": null,
   "id": "39325afd",
   "metadata": {},
   "outputs": [],
   "source": []
  },
  {
   "cell_type": "markdown",
   "id": "43ccf6ed",
   "metadata": {},
   "source": [
    "- Nombres paires de 0 à 20"
   ]
  },
  {
   "cell_type": "code",
   "execution_count": null,
   "id": "724120a4",
   "metadata": {},
   "outputs": [],
   "source": []
  },
  {
   "cell_type": "markdown",
   "id": "b65b82ca",
   "metadata": {},
   "source": [
    "- Nombres de 20 à 0"
   ]
  },
  {
   "cell_type": "code",
   "execution_count": null,
   "id": "4caf24ab",
   "metadata": {},
   "outputs": [],
   "source": []
  },
  {
   "cell_type": "markdown",
   "id": "b039ea0e",
   "metadata": {},
   "source": [
    "## Boucle imbriquées\n",
    "- Tables de multiplication avec 2 boucles for"
   ]
  },
  {
   "cell_type": "code",
   "execution_count": null,
   "id": "110c91b2",
   "metadata": {},
   "outputs": [],
   "source": []
  }
 ],
 "metadata": {
  "kernelspec": {
   "display_name": "Python 3",
   "language": "python",
   "name": "python3"
  },
  "language_info": {
   "codemirror_mode": {
    "name": "ipython",
    "version": 3
   },
   "file_extension": ".py",
   "mimetype": "text/x-python",
   "name": "python",
   "nbconvert_exporter": "python",
   "pygments_lexer": "ipython3",
   "version": "3.12.4"
  }
 },
 "nbformat": 4,
 "nbformat_minor": 5
}
