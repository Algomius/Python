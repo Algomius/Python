{
 "cells": [
  {
   "cell_type": "markdown",
   "id": "2d93928e",
   "metadata": {},
   "source": [
    "# Listes"
   ]
  },
  {
   "cell_type": "markdown",
   "id": "08df9dea",
   "metadata": {},
   "source": [
    "## Déclarer une liste\n",
    "- Liste homogène\n",
    "- Liste hétérogène\n",
    "- Affichage d'une liste\n",
    "- Récupérer la longueur d'une liste"
   ]
  },
  {
   "cell_type": "code",
   "execution_count": null,
   "id": "5d79dde4",
   "metadata": {},
   "outputs": [],
   "source": []
  },
  {
   "cell_type": "markdown",
   "id": "47954151",
   "metadata": {},
   "source": [
    "## Accéder aux éléments d'une liste\n",
    "- Utiliser une boucle for pour parcourir une liste"
   ]
  },
  {
   "cell_type": "code",
   "execution_count": null,
   "id": "6bf9196e",
   "metadata": {},
   "outputs": [],
   "source": []
  },
  {
   "cell_type": "markdown",
   "id": "c673c0b0",
   "metadata": {},
   "source": [
    "- Utilisation des indices négatifs"
   ]
  },
  {
   "cell_type": "code",
   "execution_count": null,
   "id": "25874779",
   "metadata": {},
   "outputs": [],
   "source": []
  },
  {
   "cell_type": "markdown",
   "id": "3eb9a24a",
   "metadata": {},
   "source": [
    "## Utilisation du slicing\n",
    "- Supprimons le premier et le dernier élément d'une liste\n",
    "- Les 3 premiers éléments d'une liste\n",
    "- Les 3 derniers éléments d'une liste"
   ]
  },
  {
   "cell_type": "code",
   "execution_count": null,
   "id": "ab4f75f1",
   "metadata": {},
   "outputs": [],
   "source": []
  },
  {
   "cell_type": "markdown",
   "id": "2c0b50c6",
   "metadata": {},
   "source": [
    "## Opérateurs sur les listes\n",
    "- Concaténation\n",
    "- Ajout \n",
    "- Suppression"
   ]
  },
  {
   "cell_type": "code",
   "execution_count": null,
   "id": "c64df0a3",
   "metadata": {},
   "outputs": [],
   "source": []
  },
  {
   "cell_type": "markdown",
   "id": "6040bca8",
   "metadata": {},
   "source": [
    "## Liste et booléen\n",
    "- Tester la liste"
   ]
  },
  {
   "cell_type": "code",
   "execution_count": null,
   "id": "5c6852ca",
   "metadata": {},
   "outputs": [],
   "source": []
  },
  {
   "cell_type": "markdown",
   "id": "f8b3d881",
   "metadata": {},
   "source": [
    "## Copier une liste\n",
    "- Copie de pointeur mais la liste n'est pas dupliquée"
   ]
  },
  {
   "cell_type": "code",
   "execution_count": null,
   "id": "1a7de424",
   "metadata": {},
   "outputs": [],
   "source": []
  },
  {
   "cell_type": "markdown",
   "id": "bc1901bd",
   "metadata": {},
   "source": [
    "- avec la fonction copy(), la duplication est en place"
   ]
  },
  {
   "cell_type": "code",
   "execution_count": null,
   "id": "d84832ed",
   "metadata": {},
   "outputs": [],
   "source": []
  },
  {
   "cell_type": "markdown",
   "id": "3fd59230",
   "metadata": {},
   "source": [
    "## Liste de liste\n",
    "- Affichons tous les éléments de la liste"
   ]
  },
  {
   "cell_type": "code",
   "execution_count": null,
   "id": "45d067e6",
   "metadata": {},
   "outputs": [],
   "source": []
  },
  {
   "cell_type": "markdown",
   "id": "20f36544",
   "metadata": {},
   "source": [
    "- Variante du parcours de la boucle sans la fonction range()"
   ]
  },
  {
   "cell_type": "code",
   "execution_count": null,
   "id": "6f2e5dcf",
   "metadata": {},
   "outputs": [],
   "source": []
  },
  {
   "cell_type": "markdown",
   "id": "dd9942bf",
   "metadata": {},
   "source": [
    "- Stocker les résultats des tables de multiplication"
   ]
  },
  {
   "cell_type": "code",
   "execution_count": null,
   "id": "7b6443e8",
   "metadata": {},
   "outputs": [],
   "source": [
    "table = [\n",
    "    [0, 0, 0, 0, 0, 0, 0, 0, 0, 0, 0],\n",
    "    [0, 0, 0, 0, 0, 0, 0, 0, 0, 0, 0],\n",
    "    [0, 0, 0, 0, 0, 0, 0, 0, 0, 0, 0],\n",
    "    [0, 0, 0, 0, 0, 0, 0, 0, 0, 0, 0],\n",
    "    [0, 0, 0, 0, 0, 0, 0, 0, 0, 0, 0],\n",
    "    [0, 0, 0, 0, 0, 0, 0, 0, 0, 0, 0],\n",
    "    [0, 0, 0, 0, 0, 0, 0, 0, 0, 0, 0],\n",
    "    [0, 0, 0, 0, 0, 0, 0, 0, 0, 0, 0],\n",
    "    [0, 0, 0, 0, 0, 0, 0, 0, 0, 0, 0],\n",
    "    [0, 0, 0, 0, 0, 0, 0, 0, 0, 0, 0],\n",
    "    [0, 0, 0, 0, 0, 0, 0, 0, 0, 0, 0]\n",
    "]"
   ]
  }
 ],
 "metadata": {
  "kernelspec": {
   "display_name": "Python 3",
   "language": "python",
   "name": "python3"
  },
  "language_info": {
   "codemirror_mode": {
    "name": "ipython",
    "version": 3
   },
   "file_extension": ".py",
   "mimetype": "text/x-python",
   "name": "python",
   "nbconvert_exporter": "python",
   "pygments_lexer": "ipython3",
   "version": "3.12.4"
  }
 },
 "nbformat": 4,
 "nbformat_minor": 5
}
