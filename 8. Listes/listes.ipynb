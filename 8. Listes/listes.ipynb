{
 "cells": [
  {
   "cell_type": "markdown",
   "id": "2d93928e",
   "metadata": {},
   "source": [
    "# Listes"
   ]
  },
  {
   "cell_type": "markdown",
   "id": "08df9dea",
   "metadata": {},
   "source": [
    "## Déclarer une liste\n",
    "- Liste homogène\n",
    "- Liste hétérogène\n",
    "- Affichage d'une liste\n",
    "- Récupérer la longueur d'une liste"
   ]
  },
  {
   "cell_type": "code",
   "execution_count": 2,
   "id": "5d79dde4",
   "metadata": {},
   "outputs": [
    {
     "name": "stdout",
     "output_type": "stream",
     "text": [
      "[1, 2, 3, 4, 5]\n",
      "[2.3, 3.4, 7.7865414, 2.66]\n",
      "[1, 2.85, 'coucou', True, 5]\n",
      "La liste 3 contient 5 éléments\n"
     ]
    }
   ],
   "source": [
    "lst1 = [1, 2, 3, 4, 5]\n",
    "print(lst1)\n",
    "lst2 = [2.3, 3.4, 7.7865414, 2.66]\n",
    "print(lst2)\n",
    "lst3 = [1, 2.85, \"coucou\", True, 5] \n",
    "print(lst3) \n",
    "print(\"La liste 3 contient\", len(lst3), \"éléments\")"
   ]
  },
  {
   "cell_type": "markdown",
   "id": "47954151",
   "metadata": {},
   "source": [
    "## Accéder aux éléments d'une liste\n",
    "- Utiliser une boucle for pour parcourir une liste"
   ]
  },
  {
   "cell_type": "code",
   "execution_count": null,
   "id": "6bf9196e",
   "metadata": {},
   "outputs": [
    {
     "name": "stdout",
     "output_type": "stream",
     "text": [
      "La valeur 1 est de type <class 'int'>\n",
      "La valeur 2.85 est de type <class 'float'>\n",
      "La valeur coucou est de type <class 'str'>\n",
      "La valeur True est de type <class 'bool'>\n",
      "La valeur 5 est de type <class 'int'>\n"
     ]
    },
    {
     "ename": "IndexError",
     "evalue": "list index out of range",
     "output_type": "error",
     "traceback": [
      "\u001b[1;31m---------------------------------------------------------------------------\u001b[0m",
      "\u001b[1;31mIndexError\u001b[0m                                Traceback (most recent call last)",
      "Cell \u001b[1;32mIn[5], line 7\u001b[0m\n\u001b[0;32m      3\u001b[0m \u001b[38;5;28;01mfor\u001b[39;00m i \u001b[38;5;129;01min\u001b[39;00m \u001b[38;5;28mrange\u001b[39m(\u001b[38;5;241m0\u001b[39m, \u001b[38;5;28mlen\u001b[39m(maListe)):\n\u001b[0;32m      4\u001b[0m     \u001b[38;5;28mprint\u001b[39m(\u001b[38;5;124m\"\u001b[39m\u001b[38;5;124mLa valeur\u001b[39m\u001b[38;5;124m\"\u001b[39m, maListe[i], \u001b[38;5;124m\"\u001b[39m\u001b[38;5;124mest de type\u001b[39m\u001b[38;5;124m\"\u001b[39m, \u001b[38;5;28mtype\u001b[39m(maListe[i]))\n\u001b[1;32m----> 7\u001b[0m \u001b[38;5;28mprint\u001b[39m(\u001b[43mmaListe\u001b[49m\u001b[43m[\u001b[49m\u001b[38;5;241;43m18\u001b[39;49m\u001b[43m]\u001b[49m)\n",
      "\u001b[1;31mIndexError\u001b[0m: list index out of range"
     ]
    }
   ],
   "source": [
    "maListe = [1, 2.85, \"coucou\", True, 5] \n",
    "\n",
    "for i in range(0, len(maListe)):\n",
    "    print(\"La valeur\", maListe[i], \"est de type\", type(maListe[i]))\n",
    "\n",
    "\n",
    "print(maListe[18]) #Erreur, nous avons dépassé la taille de la liste"
   ]
  },
  {
   "cell_type": "markdown",
   "id": "c673c0b0",
   "metadata": {},
   "source": [
    "- Utilisation des indices négatifs"
   ]
  },
  {
   "cell_type": "code",
   "execution_count": 7,
   "id": "25874779",
   "metadata": {},
   "outputs": [
    {
     "name": "stdout",
     "output_type": "stream",
     "text": [
      "La valeur 5 est de type <class 'int'>\n",
      "La valeur True est de type <class 'bool'>\n",
      "La valeur coucou est de type <class 'str'>\n",
      "La valeur 2.85 est de type <class 'float'>\n",
      "La valeur 1 est de type <class 'int'>\n"
     ]
    },
    {
     "ename": "IndexError",
     "evalue": "list index out of range",
     "output_type": "error",
     "traceback": [
      "\u001b[1;31m---------------------------------------------------------------------------\u001b[0m",
      "\u001b[1;31mIndexError\u001b[0m                                Traceback (most recent call last)",
      "Cell \u001b[1;32mIn[7], line 7\u001b[0m\n\u001b[0;32m      3\u001b[0m \u001b[38;5;28;01mfor\u001b[39;00m i \u001b[38;5;129;01min\u001b[39;00m \u001b[38;5;28mrange\u001b[39m(\u001b[38;5;241m-\u001b[39m\u001b[38;5;241m1\u001b[39m, \u001b[38;5;241m-\u001b[39m\u001b[38;5;28mlen\u001b[39m(maListe)\u001b[38;5;241m-\u001b[39m\u001b[38;5;241m1\u001b[39m,\u001b[38;5;241m-\u001b[39m\u001b[38;5;241m1\u001b[39m):\n\u001b[0;32m      4\u001b[0m     \u001b[38;5;28mprint\u001b[39m(\u001b[38;5;124m\"\u001b[39m\u001b[38;5;124mLa valeur\u001b[39m\u001b[38;5;124m\"\u001b[39m, maListe[i], \u001b[38;5;124m\"\u001b[39m\u001b[38;5;124mest de type\u001b[39m\u001b[38;5;124m\"\u001b[39m, \u001b[38;5;28mtype\u001b[39m(maListe[i]))\n\u001b[1;32m----> 7\u001b[0m \u001b[38;5;28mprint\u001b[39m(\u001b[43mmaListe\u001b[49m\u001b[43m[\u001b[49m\u001b[38;5;241;43m-\u001b[39;49m\u001b[38;5;241;43m18\u001b[39;49m\u001b[43m]\u001b[49m) \u001b[38;5;66;03m#Erreur, nous avons dépassé la taille de la liste\u001b[39;00m\n",
      "\u001b[1;31mIndexError\u001b[0m: list index out of range"
     ]
    }
   ],
   "source": [
    "maListe = [1, 2.85, \"coucou\", True, 5] \n",
    "\n",
    "for i in range(-1, -len(maListe)-1,-1):\n",
    "    print(\"La valeur\", maListe[i], \"est de type\", type(maListe[i]))\n",
    "\n",
    "\n",
    "print(maListe[-18]) #Erreur, nous avons dépassé la taille de la liste"
   ]
  },
  {
   "cell_type": "markdown",
   "id": "3eb9a24a",
   "metadata": {},
   "source": [
    "## Utilisation du slicing\n",
    "- Supprimons le premier et le dernier élément d'une liste\n",
    "- Les 3 premiers éléments d'une liste\n",
    "- Les 3 derniers éléments d'une liste"
   ]
  },
  {
   "cell_type": "code",
   "execution_count": 13,
   "id": "ab4f75f1",
   "metadata": {},
   "outputs": [
    {
     "name": "stdout",
     "output_type": "stream",
     "text": [
      "[2.85, 'coucou', True]\n",
      "[2.85, 'coucou', True]\n",
      "[1, 2.85, 'coucou']\n",
      "['coucou', True, 5]\n"
     ]
    }
   ],
   "source": [
    "maListe = [1, 2.85, \"coucou\", True, 5] \n",
    "\n",
    "print(maListe[1:4])\n",
    "print(maListe[1:-1])\n",
    "\n",
    "print(maListe[:3])\n",
    "\n",
    "print(maListe[2:])"
   ]
  },
  {
   "cell_type": "markdown",
   "id": "2c0b50c6",
   "metadata": {},
   "source": [
    "## Opérateurs sur les listes\n",
    "- Concaténation\n",
    "- Ajout \n",
    "- Suppression"
   ]
  },
  {
   "cell_type": "code",
   "execution_count": 15,
   "id": "c64df0a3",
   "metadata": {},
   "outputs": [
    {
     "name": "stdout",
     "output_type": "stream",
     "text": [
      "[1, 3, 4, 5, 6, 7]\n",
      "L'élément 2 a bien été supprimé\n"
     ]
    }
   ],
   "source": [
    "l1 = [1, 2, 3]\n",
    "l2 = [4, 5, 6]\n",
    "l3 = l1 + l2\n",
    "l3.append(7)\n",
    "del l3[1]\n",
    "print(l3)\n",
    "if 2 not in l3:\n",
    "    print(\"L'élément 2 a bien été supprimé\")\n",
    "else:\n",
    "    print(\"Erreur : l'élément 2 est toujorus là\")"
   ]
  },
  {
   "cell_type": "markdown",
   "id": "6040bca8",
   "metadata": {},
   "source": [
    "## Liste et booléen\n",
    "- Tester la liste"
   ]
  },
  {
   "cell_type": "code",
   "execution_count": 16,
   "id": "5c6852ca",
   "metadata": {},
   "outputs": [
    {
     "name": "stdout",
     "output_type": "stream",
     "text": [
      "1\n",
      "2\n",
      "3\n",
      "5\n",
      "7\n",
      "8\n",
      "9\n"
     ]
    }
   ],
   "source": [
    "l1 = [5, 7, 3, 1, 9, 2, 8]\n",
    "l1.sort()\n",
    "while l1:\n",
    "    print(l1[0])\n",
    "    del l1[0]"
   ]
  },
  {
   "cell_type": "markdown",
   "id": "f8b3d881",
   "metadata": {},
   "source": [
    "## Copier une liste\n",
    "- Copie de pointeur mais la liste n'est pas dupliquée"
   ]
  },
  {
   "cell_type": "code",
   "execution_count": 17,
   "id": "1a7de424",
   "metadata": {},
   "outputs": [
    {
     "name": "stdout",
     "output_type": "stream",
     "text": [
      "[1, 2, 11, 4, 5]\n",
      "[1, 2, 11, 4, 5]\n"
     ]
    }
   ],
   "source": [
    "l1 = [1, 2, 3, 4, 5]\n",
    "l2 = l1\n",
    "l1[2] = 11\n",
    "print(l1)\n",
    "print(l2)"
   ]
  },
  {
   "cell_type": "markdown",
   "id": "bc1901bd",
   "metadata": {},
   "source": [
    "- avec la fonction copy(), la duplication est en place"
   ]
  },
  {
   "cell_type": "code",
   "execution_count": 18,
   "id": "d84832ed",
   "metadata": {},
   "outputs": [
    {
     "name": "stdout",
     "output_type": "stream",
     "text": [
      "[1, 2, 11, 4, 5]\n",
      "[1, 2, 3, 4, 5]\n"
     ]
    }
   ],
   "source": [
    "l1 = [1, 2, 3, 4, 5]\n",
    "l2 = l1.copy()\n",
    "l1[2] = 11\n",
    "print(l1)\n",
    "print(l2)"
   ]
  },
  {
   "cell_type": "markdown",
   "id": "3fd59230",
   "metadata": {},
   "source": [
    "## Liste de liste\n",
    "- Affichons tous les éléments de la liste"
   ]
  },
  {
   "cell_type": "code",
   "execution_count": 19,
   "id": "45d067e6",
   "metadata": {},
   "outputs": [
    {
     "name": "stdout",
     "output_type": "stream",
     "text": [
      "[1, 2, 3]\n",
      "[4, 5, 6]\n",
      "[7, 8, 9]\n"
     ]
    }
   ],
   "source": [
    "maListe = [[1, 2, 3], [4, 5, 6], [7, 8, 9]]\n",
    "\n",
    "for i in range(len(maListe)):\n",
    "    print(maListe[i])\n",
    "\n"
   ]
  },
  {
   "cell_type": "markdown",
   "id": "20f36544",
   "metadata": {},
   "source": [
    "- Variante du parcours de la boucle sans la fonction range()"
   ]
  },
  {
   "cell_type": "code",
   "execution_count": 21,
   "id": "6f2e5dcf",
   "metadata": {},
   "outputs": [
    {
     "name": "stdout",
     "output_type": "stream",
     "text": [
      "[1, 2, 3]\n",
      "[4, 5, 6]\n",
      "[7, 8, 9]\n"
     ]
    }
   ],
   "source": [
    "maListe = [[1, 2, 3], [4, 5, 6], [7, 8, 9]]\n",
    "\n",
    "for i in maListe:\n",
    "    print(i)"
   ]
  },
  {
   "cell_type": "markdown",
   "id": "dd9942bf",
   "metadata": {},
   "source": [
    "- Stocker les résultats des tables de multiplication"
   ]
  },
  {
   "cell_type": "code",
   "execution_count": 23,
   "id": "7b6443e8",
   "metadata": {},
   "outputs": [
    {
     "name": "stdout",
     "output_type": "stream",
     "text": [
      "[[0, 0, 0, 0, 0, 0, 0, 0, 0, 0, 0], [0, 1, 2, 3, 4, 5, 6, 7, 8, 9, 10], [0, 2, 4, 6, 8, 10, 12, 14, 16, 18, 20], [0, 3, 6, 9, 12, 15, 18, 21, 24, 27, 30], [0, 4, 8, 12, 16, 20, 24, 28, 32, 36, 40], [0, 5, 10, 15, 20, 25, 30, 35, 40, 45, 50], [0, 6, 12, 18, 24, 30, 36, 42, 48, 54, 60], [0, 7, 14, 21, 28, 35, 42, 49, 56, 63, 70], [0, 8, 16, 24, 32, 40, 48, 56, 64, 72, 80], [0, 9, 18, 27, 36, 45, 54, 63, 72, 81, 90], [0, 10, 20, 30, 40, 50, 60, 70, 80, 90, 100]]\n",
      "56\n"
     ]
    }
   ],
   "source": [
    "table = [\n",
    "    [0, 0, 0, 0, 0, 0, 0, 0, 0, 0, 0],\n",
    "    [0, 0, 0, 0, 0, 0, 0, 0, 0, 0, 0],\n",
    "    [0, 0, 0, 0, 0, 0, 0, 0, 0, 0, 0],\n",
    "    [0, 0, 0, 0, 0, 0, 0, 0, 0, 0, 0],\n",
    "    [0, 0, 0, 0, 0, 0, 0, 0, 0, 0, 0],\n",
    "    [0, 0, 0, 0, 0, 0, 0, 0, 0, 0, 0],\n",
    "    [0, 0, 0, 0, 0, 0, 0, 0, 0, 0, 0],\n",
    "    [0, 0, 0, 0, 0, 0, 0, 0, 0, 0, 0],\n",
    "    [0, 0, 0, 0, 0, 0, 0, 0, 0, 0, 0],\n",
    "    [0, 0, 0, 0, 0, 0, 0, 0, 0, 0, 0],\n",
    "    [0, 0, 0, 0, 0, 0, 0, 0, 0, 0, 0]\n",
    "]\n",
    "\n",
    "for i in range(0, 11):\n",
    "    for j in range(0, 11):\n",
    "        table[i][j] = i * j\n",
    "\n",
    "print(table)\n",
    "print(table[7][8])\n",
    "    \n"
   ]
  }
 ],
 "metadata": {
  "kernelspec": {
   "display_name": "Python 3",
   "language": "python",
   "name": "python3"
  },
  "language_info": {
   "codemirror_mode": {
    "name": "ipython",
    "version": 3
   },
   "file_extension": ".py",
   "mimetype": "text/x-python",
   "name": "python",
   "nbconvert_exporter": "python",
   "pygments_lexer": "ipython3",
   "version": "3.12.4"
  }
 },
 "nbformat": 4,
 "nbformat_minor": 5
}
