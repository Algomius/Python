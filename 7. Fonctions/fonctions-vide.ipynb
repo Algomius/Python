{
 "cells": [
  {
   "cell_type": "markdown",
   "id": "3750cc34",
   "metadata": {},
   "source": [
    "# Fonctions"
   ]
  },
  {
   "cell_type": "markdown",
   "id": "1d28ddb0",
   "metadata": {},
   "source": [
    "## Fonctions sans paramètres et sans valeur de retour\n",
    "- Cette fonction ne fait qu'afficher du texte sur la sortie standard"
   ]
  },
  {
   "cell_type": "code",
   "execution_count": null,
   "id": "75743029",
   "metadata": {},
   "outputs": [],
   "source": []
  },
  {
   "cell_type": "markdown",
   "id": "eec4fa28",
   "metadata": {},
   "source": [
    "## Fonction avec paramètre sans valeur de retour\n",
    "- Cette fois l'affichage se fait à partir d'un paramètre"
   ]
  },
  {
   "cell_type": "code",
   "execution_count": null,
   "id": "2ec2b851",
   "metadata": {},
   "outputs": [],
   "source": []
  },
  {
   "cell_type": "markdown",
   "id": "68706c27",
   "metadata": {},
   "source": [
    "- Exemple de fonction qui écrit le plus petit de deux nombres reçus en paramètre"
   ]
  },
  {
   "cell_type": "code",
   "execution_count": null,
   "id": "3b54a52a",
   "metadata": {},
   "outputs": [],
   "source": []
  },
  {
   "cell_type": "markdown",
   "id": "ea3d9035",
   "metadata": {},
   "source": [
    "## Fonction avec paramètre et valeur de retour\n",
    "- La fonction plusPetit() renvoie maintenant la plus petite des valeurs"
   ]
  },
  {
   "cell_type": "code",
   "execution_count": null,
   "id": "94040639",
   "metadata": {},
   "outputs": [],
   "source": []
  },
  {
   "cell_type": "markdown",
   "id": "341756a6",
   "metadata": {},
   "source": [
    "- Fonction qui renvoie plusieurs valeurs en retour"
   ]
  },
  {
   "cell_type": "code",
   "execution_count": null,
   "id": "7bbf3c6a",
   "metadata": {},
   "outputs": [],
   "source": []
  },
  {
   "cell_type": "markdown",
   "id": "b4febe44",
   "metadata": {},
   "source": [
    "## Variables globales\n",
    "- Utilisation d'une variable déclarée dans le programme principal dans une fonction"
   ]
  },
  {
   "cell_type": "code",
   "execution_count": null,
   "id": "4d5b3d1f",
   "metadata": {},
   "outputs": [],
   "source": [
    "\n"
   ]
  },
  {
   "cell_type": "markdown",
   "id": "18d078b5",
   "metadata": {},
   "source": [
    "- Paramètre d'une fonction qui a le même nom qu'une variable globale"
   ]
  },
  {
   "cell_type": "code",
   "execution_count": null,
   "id": "d4d7b948",
   "metadata": {},
   "outputs": [],
   "source": []
  },
  {
   "cell_type": "markdown",
   "id": "28169107",
   "metadata": {},
   "source": [
    "## Gestion des exceptions\n",
    "- Provoquons une erreur en cherchant à diviser un nombre par 0"
   ]
  },
  {
   "cell_type": "code",
   "execution_count": null,
   "id": "5e5891e4",
   "metadata": {},
   "outputs": [],
   "source": []
  },
  {
   "cell_type": "markdown",
   "id": "72939758",
   "metadata": {},
   "source": [
    "- Utilisons la gestion d'exception pour rattraper l'erreur avant le crash"
   ]
  },
  {
   "cell_type": "code",
   "execution_count": null,
   "id": "9d79bcbb",
   "metadata": {},
   "outputs": [],
   "source": []
  },
  {
   "cell_type": "markdown",
   "id": "b124e69d",
   "metadata": {},
   "source": [
    "## Cas concrets\n",
    "- moyenne de 4 nombres"
   ]
  },
  {
   "cell_type": "code",
   "execution_count": null,
   "id": "36b026e9",
   "metadata": {},
   "outputs": [],
   "source": []
  },
  {
   "cell_type": "markdown",
   "id": "b9a9a85d",
   "metadata": {},
   "source": [
    "- Dessiner un rectangle avec des étoiles"
   ]
  },
  {
   "cell_type": "code",
   "execution_count": null,
   "id": "c4f69b9e",
   "metadata": {},
   "outputs": [],
   "source": []
  },
  {
   "cell_type": "markdown",
   "id": "f473d400",
   "metadata": {},
   "source": [
    "- Encore plus fort, un carré avec ses diagonales"
   ]
  },
  {
   "cell_type": "code",
   "execution_count": null,
   "id": "20d3b2eb",
   "metadata": {},
   "outputs": [],
   "source": []
  }
 ],
 "metadata": {
  "kernelspec": {
   "display_name": "Python 3",
   "language": "python",
   "name": "python3"
  },
  "language_info": {
   "codemirror_mode": {
    "name": "ipython",
    "version": 3
   },
   "file_extension": ".py",
   "mimetype": "text/x-python",
   "name": "python",
   "nbconvert_exporter": "python",
   "pygments_lexer": "ipython3",
   "version": "3.12.4"
  }
 },
 "nbformat": 4,
 "nbformat_minor": 5
}
