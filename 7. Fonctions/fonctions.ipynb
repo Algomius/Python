{
 "cells": [
  {
   "cell_type": "markdown",
   "id": "3750cc34",
   "metadata": {},
   "source": [
    "# Fonctions"
   ]
  },
  {
   "cell_type": "markdown",
   "id": "1d28ddb0",
   "metadata": {},
   "source": [
    "## Fonctions sans paramètres et sans valeur de retour\n",
    "- Cette fonction ne fait qu'afficher du texte sur la sortie standard"
   ]
  },
  {
   "cell_type": "code",
   "execution_count": 1,
   "id": "75743029",
   "metadata": {},
   "outputs": [
    {
     "name": "stdout",
     "output_type": "stream",
     "text": [
      "Salut\n",
      "Tout le monde va bien ?\n",
      "C'est super!\n",
      "*******************************************\n",
      "Salut\n",
      "Tout le monde va bien ?\n",
      "C'est super!\n",
      "*******************************************\n",
      "Salut\n",
      "Tout le monde va bien ?\n",
      "C'est super!\n"
     ]
    }
   ],
   "source": [
    "def affichage():\n",
    "    print(\"Salut\")\n",
    "    print(\"Tout le monde va bien ?\")\n",
    "    print(\"C'est super!\")\n",
    "\n",
    "affichage()\n",
    "print(\"*******************************************\")\n",
    "affichage()\n",
    "print(\"*******************************************\")\n",
    "affichage()"
   ]
  },
  {
   "cell_type": "markdown",
   "id": "eec4fa28",
   "metadata": {},
   "source": [
    "## Fonction avec paramètre sans valeur de retour\n",
    "- Cette fois l'affichage se fait à partir d'un paramètre"
   ]
  },
  {
   "cell_type": "code",
   "execution_count": 4,
   "id": "2ec2b851",
   "metadata": {},
   "outputs": [
    {
     "name": "stdout",
     "output_type": "stream",
     "text": [
      "Salut Bob\n",
      "Est-ce que tu vas bien, Bob ?\n",
      "C'est super, Bob !\n",
      "*******************************************\n",
      "Salut Kim\n",
      "Est-ce que tu vas bien, Kim ?\n",
      "C'est super, Kim !\n",
      "*******************************************\n",
      "Salut Jim\n",
      "Est-ce que tu vas bien, Jim ?\n",
      "C'est super, Jim !\n"
     ]
    }
   ],
   "source": [
    "def affichage(nom):\n",
    "    print(\"Salut\", nom)\n",
    "    print(\"Est-ce que tu vas bien,\", nom, \"?\")\n",
    "    print(\"C'est super,\",nom, \"!\")\n",
    "\n",
    "affichage(\"Bob\")\n",
    "print(\"*******************************************\")\n",
    "affichage(\"Kim\")\n",
    "print(\"*******************************************\")\n",
    "affichage(\"Jim\")\n",
    "\n",
    "#print(nom) # interdit, nom n'existe que dans la fonction et pas dans le programme principal"
   ]
  },
  {
   "cell_type": "markdown",
   "id": "68706c27",
   "metadata": {},
   "source": [
    "- Exemple de fonction qui écrit le plus petit de deux nombres reçus en paramètre"
   ]
  },
  {
   "cell_type": "code",
   "execution_count": 5,
   "id": "3b54a52a",
   "metadata": {},
   "outputs": [
    {
     "name": "stdout",
     "output_type": "stream",
     "text": [
      "11\n",
      "3\n"
     ]
    }
   ],
   "source": [
    "def plusPetit(a, b):\n",
    "    if a < b:\n",
    "        print(a)\n",
    "    else:\n",
    "        print(b)\n",
    "\n",
    "plusPetit(13, 11)\n",
    "plusPetit(3, 5)"
   ]
  },
  {
   "cell_type": "markdown",
   "id": "ea3d9035",
   "metadata": {},
   "source": [
    "## Fonction avec paramètre et valeur de retour\n",
    "- La fonction plusPetit() renvoie maintenant la plus petite des valeurs"
   ]
  },
  {
   "cell_type": "code",
   "execution_count": 6,
   "id": "94040639",
   "metadata": {},
   "outputs": [
    {
     "name": "stdout",
     "output_type": "stream",
     "text": [
      "11\n",
      "3\n"
     ]
    }
   ],
   "source": [
    "def plusPetit(a, b):\n",
    "    if a < b:\n",
    "        return a\n",
    "    else:\n",
    "        return b\n",
    "\n",
    "p = plusPetit(13, 11)\n",
    "print(p)\n",
    "p = plusPetit(3, 5)\n",
    "print(p)"
   ]
  },
  {
   "cell_type": "markdown",
   "id": "341756a6",
   "metadata": {},
   "source": [
    "- Fonction qui renvoie plusieurs valeurs en retour"
   ]
  },
  {
   "cell_type": "code",
   "execution_count": 8,
   "id": "7bbf3c6a",
   "metadata": {},
   "outputs": [
    {
     "name": "stdout",
     "output_type": "stream",
     "text": [
      "11 est plus petit que 13\n",
      "3 est plus petit que 5\n"
     ]
    }
   ],
   "source": [
    "def plusPetit(a, b):\n",
    "    if a < b:\n",
    "        return a,b\n",
    "    else:\n",
    "        return b,a\n",
    "\n",
    "petit, grand = plusPetit(13, 11)\n",
    "print(petit, \"est plus petit que\", grand)\n",
    "petit, grand = plusPetit(3, 5)\n",
    "print(petit, \"est plus petit que\", grand)"
   ]
  },
  {
   "cell_type": "markdown",
   "id": "b4febe44",
   "metadata": {},
   "source": [
    "## Variables globales\n",
    "- Utilisation d'une variable déclarée dans le programme principal dans une fonction"
   ]
  },
  {
   "cell_type": "code",
   "execution_count": 9,
   "id": "4d5b3d1f",
   "metadata": {},
   "outputs": [
    {
     "name": "stdout",
     "output_type": "stream",
     "text": [
      "Bonjour Bob\n"
     ]
    }
   ],
   "source": [
    "def affichage():\n",
    "    print(\"Bonjour\", nom)\n",
    "\n",
    "nom=\"Bob\"\n",
    "affichage()\n"
   ]
  },
  {
   "cell_type": "markdown",
   "id": "18d078b5",
   "metadata": {},
   "source": [
    "- Paramètre d'une fonction qui a le même nom qu'une variable globale"
   ]
  },
  {
   "cell_type": "code",
   "execution_count": 10,
   "id": "d4d7b948",
   "metadata": {},
   "outputs": [
    {
     "name": "stdout",
     "output_type": "stream",
     "text": [
      "Bonjour Kim\n"
     ]
    }
   ],
   "source": [
    "def affichage(nom):\n",
    "    print(\"Bonjour\", nom)\n",
    "\n",
    "nom=\"Bob\"\n",
    "affichage(\"Kim\")"
   ]
  },
  {
   "cell_type": "markdown",
   "id": "28169107",
   "metadata": {},
   "source": [
    "## Gestion des exceptions\n",
    "- Provoquons une erreur en cherchant à diviser un nombre par 0"
   ]
  },
  {
   "cell_type": "code",
   "execution_count": 14,
   "id": "5e5891e4",
   "metadata": {},
   "outputs": [
    {
     "name": "stdout",
     "output_type": "stream",
     "text": [
      "5.0\n"
     ]
    },
    {
     "ename": "ZeroDivisionError",
     "evalue": "division by zero",
     "output_type": "error",
     "traceback": [
      "\u001b[1;31m---------------------------------------------------------------------------\u001b[0m",
      "\u001b[1;31mZeroDivisionError\u001b[0m                         Traceback (most recent call last)",
      "Cell \u001b[1;32mIn[14], line 6\u001b[0m\n\u001b[0;32m      4\u001b[0m d \u001b[38;5;241m=\u001b[39m division(\u001b[38;5;241m25\u001b[39m, \u001b[38;5;241m5\u001b[39m)\n\u001b[0;32m      5\u001b[0m \u001b[38;5;28mprint\u001b[39m(d)\n\u001b[1;32m----> 6\u001b[0m d \u001b[38;5;241m=\u001b[39m \u001b[43mdivision\u001b[49m\u001b[43m(\u001b[49m\u001b[38;5;241;43m25\u001b[39;49m\u001b[43m,\u001b[49m\u001b[43m \u001b[49m\u001b[38;5;241;43m0\u001b[39;49m\u001b[43m)\u001b[49m\n\u001b[0;32m      7\u001b[0m \u001b[38;5;28mprint\u001b[39m(d)\n",
      "Cell \u001b[1;32mIn[14], line 2\u001b[0m, in \u001b[0;36mdivision\u001b[1;34m(numerateur, denominateur)\u001b[0m\n\u001b[0;32m      1\u001b[0m \u001b[38;5;28;01mdef\u001b[39;00m \u001b[38;5;21mdivision\u001b[39m(numerateur, denominateur):\n\u001b[1;32m----> 2\u001b[0m     \u001b[38;5;28;01mreturn\u001b[39;00m \u001b[43mnumerateur\u001b[49m\u001b[38;5;241;43m/\u001b[39;49m\u001b[43mdenominateur\u001b[49m\n",
      "\u001b[1;31mZeroDivisionError\u001b[0m: division by zero"
     ]
    }
   ],
   "source": [
    "def division(numerateur, denominateur):\n",
    "    return numerateur/denominateur\n",
    "\n",
    "d = division(25, 5)\n",
    "print(d)\n",
    "d = division(25, 0)\n",
    "print(d)"
   ]
  },
  {
   "cell_type": "markdown",
   "id": "72939758",
   "metadata": {},
   "source": [
    "- Utilisons la gestion d'exception pour rattraper l'erreur avant le crash"
   ]
  },
  {
   "cell_type": "code",
   "execution_count": 15,
   "id": "9d79bcbb",
   "metadata": {},
   "outputs": [
    {
     "name": "stdout",
     "output_type": "stream",
     "text": [
      "5.0\n",
      "On ne divise pas par 0, jamais, jamais, jamais\n",
      "None\n"
     ]
    }
   ],
   "source": [
    "def division(numerateur, denominateur):\n",
    "    try:\n",
    "        return numerateur/denominateur\n",
    "    except ZeroDivisionError:\n",
    "        print(\"On ne divise pas par 0, jamais, jamais, jamais\")\n",
    "        return None\n",
    "\n",
    "d = division(25, 5)\n",
    "print(d)\n",
    "d = division(25, 0)\n",
    "print(d)"
   ]
  },
  {
   "cell_type": "markdown",
   "id": "b124e69d",
   "metadata": {},
   "source": [
    "## Cas concrets\n",
    "- moyenne de 4 nombres"
   ]
  },
  {
   "cell_type": "code",
   "execution_count": 17,
   "id": "36b026e9",
   "metadata": {},
   "outputs": [
    {
     "name": "stdout",
     "output_type": "stream",
     "text": [
      "12.5\n"
     ]
    }
   ],
   "source": [
    "def moyenne(a, b, c, d):\n",
    "    return (a + b +c + d) / 4\n",
    "\n",
    "m = moyenne(4, 11, 12, 23)\n",
    "print(m)"
   ]
  },
  {
   "cell_type": "markdown",
   "id": "b9a9a85d",
   "metadata": {},
   "source": [
    "- Dessiner un rectangle avec des étoiles"
   ]
  },
  {
   "cell_type": "code",
   "execution_count": 20,
   "id": "c4f69b9e",
   "metadata": {},
   "outputs": [
    {
     "name": "stdout",
     "output_type": "stream",
     "text": [
      "********\n",
      "********\n",
      "********\n",
      "********\n",
      "********\n"
     ]
    }
   ],
   "source": [
    "def rectangle(h, l):\n",
    "    for i in range(h):\n",
    "        for j in range(l):\n",
    "            print('*', end=\"\")\n",
    "        print()\n",
    "\n",
    "\n",
    "rectangle(5, 8)"
   ]
  },
  {
   "cell_type": "markdown",
   "id": "f473d400",
   "metadata": {},
   "source": [
    "- Encore plus fort, un carré avec ses diagonales"
   ]
  },
  {
   "cell_type": "code",
   "execution_count": 25,
   "id": "20d3b2eb",
   "metadata": {},
   "outputs": [
    {
     "name": "stdout",
     "output_type": "stream",
     "text": [
      "********\n",
      "**    **\n",
      "* *  * *\n",
      "*  **  *\n",
      "*  **  *\n",
      "* *  * *\n",
      "**    **\n",
      "********\n"
     ]
    }
   ],
   "source": [
    "def rectangle(h, l):\n",
    "    if h == l:\n",
    "        for i in range(h):\n",
    "            for j in range(l):\n",
    "                if i == 0 or i == h-1 or j == 0 or j == l-1 or i == j or i + j == h-1:\n",
    "                    print('*', end=\"\")\n",
    "                else:\n",
    "                    print(\" \", end=\"\")\n",
    "            print()\n",
    "    else:\n",
    "        for i in range(h):\n",
    "            for j in range(l):\n",
    "                print('*', end=\"\")\n",
    "            print()\n",
    "\n",
    "\n",
    "rectangle(8, 8)"
   ]
  },
  {
   "cell_type": "markdown",
   "id": "94f6a961",
   "metadata": {},
   "source": [
    "## Fonctions récursives\n",
    "- Analyse de la fonction factorielle"
   ]
  },
  {
   "cell_type": "code",
   "execution_count": 26,
   "id": "ef7a6480",
   "metadata": {},
   "outputs": [
    {
     "name": "stdout",
     "output_type": "stream",
     "text": [
      "120\n"
     ]
    }
   ],
   "source": [
    "def facto(n):\n",
    "    if n == 1 :\n",
    "        return 1\n",
    "    else:\n",
    "        return n * facto(n-1)\n",
    "    \n",
    "f = facto(5)\n",
    "print(f)"
   ]
  }
 ],
 "metadata": {
  "kernelspec": {
   "display_name": "Python 3",
   "language": "python",
   "name": "python3"
  },
  "language_info": {
   "codemirror_mode": {
    "name": "ipython",
    "version": 3
   },
   "file_extension": ".py",
   "mimetype": "text/x-python",
   "name": "python",
   "nbconvert_exporter": "python",
   "pygments_lexer": "ipython3",
   "version": "3.12.4"
  }
 },
 "nbformat": 4,
 "nbformat_minor": 5
}
