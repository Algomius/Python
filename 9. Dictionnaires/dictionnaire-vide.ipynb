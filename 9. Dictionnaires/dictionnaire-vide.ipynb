{
 "cells": [
  {
   "cell_type": "markdown",
   "id": "78961d51",
   "metadata": {},
   "source": [
    "# Les Dictionnaires"
   ]
  },
  {
   "cell_type": "markdown",
   "id": "24e08f4b",
   "metadata": {},
   "source": [
    "## Dictionnaires et listes\n",
    "- Créons une liste pour notre client\n",
    "- Créons un dictionnaire pour notre client"
   ]
  },
  {
   "cell_type": "code",
   "execution_count": 1,
   "id": "8e2d20bf",
   "metadata": {},
   "outputs": [],
   "source": [
    "client = [\"Doe\", \"John\", 47]\n",
    "\n",
    "\n",
    "client = {\"nom\" : \"Doe\", \"prenom\" : \"John\", \"age\" : 47}\n"
   ]
  },
  {
   "cell_type": "markdown",
   "id": "460f377b",
   "metadata": {},
   "source": [
    "## Les clés et les valeurs\n",
    "- Affichons les clés d'un dictionnaire : .keys()\n",
    "- Affichons les valeurs d'un dictionnaire : .values()\n",
    "- Affichons les couples clé/valeur d'un dictionnaire : .items()"
   ]
  },
  {
   "cell_type": "code",
   "execution_count": 2,
   "id": "df4f4571",
   "metadata": {},
   "outputs": [],
   "source": [
    "client = {\"nom\" : \"Doe\", \"prenom\" : \"John\", \"age\" : 47}\n"
   ]
  },
  {
   "cell_type": "markdown",
   "id": "27d13c1a",
   "metadata": {},
   "source": [
    "## Existence d'une clé\n",
    "- Utilisons un dictionnaire et vérifions ses clés"
   ]
  },
  {
   "cell_type": "code",
   "execution_count": 3,
   "id": "129fe62b",
   "metadata": {},
   "outputs": [],
   "source": [
    "client = {\"nom\" : \"Doe\", \"prenom\" : \"John\", \"age\" : 47}\n"
   ]
  },
  {
   "cell_type": "markdown",
   "id": "12c3b334",
   "metadata": {},
   "source": [
    "## Dictionnaire et boucles\n",
    "- Utilisons 3 types de boucles pour parcourir un dictionnaire"
   ]
  },
  {
   "cell_type": "code",
   "execution_count": 4,
   "id": "012bb9ef",
   "metadata": {},
   "outputs": [],
   "source": [
    "client = {\"nom\" : \"Doe\", \"prenom\" : \"John\", \"age\" : 47}\n",
    "\n"
   ]
  },
  {
   "cell_type": "markdown",
   "id": "768b3592",
   "metadata": {},
   "source": [
    "- Trouver les gens de plus de 30 ans\n",
    "- Calculer la moyenne des âges"
   ]
  },
  {
   "cell_type": "code",
   "execution_count": 5,
   "id": "8cfb7227",
   "metadata": {},
   "outputs": [],
   "source": [
    "age = {\"Chloé\" : 49, \"Sandra\" : 17, \"Jo\" : 8, \"John\" : 48, \"Alice\" : 35}\n"
   ]
  },
  {
   "cell_type": "markdown",
   "id": "075c35cf",
   "metadata": {},
   "source": [
    "## Valeurs par défaut\n",
    "- Récupérer une valeur par défaut"
   ]
  },
  {
   "cell_type": "code",
   "execution_count": 6,
   "id": "1b3a2876",
   "metadata": {},
   "outputs": [],
   "source": [
    "client = {\"nom\" : \"Doe\", \"prenom\" : \"John\", \"age\" : 47}\n",
    "\n"
   ]
  },
  {
   "cell_type": "markdown",
   "id": "bcdd4ea9",
   "metadata": {},
   "source": [
    "- Ajouter dans le dictionnaire une valeur par défaut"
   ]
  },
  {
   "cell_type": "code",
   "execution_count": 7,
   "id": "6c39c0cc",
   "metadata": {},
   "outputs": [],
   "source": [
    "client = {\"nom\" : \"Doe\", \"prenom\" : \"John\", \"age\" : 47}\n",
    "\n"
   ]
  },
  {
   "cell_type": "markdown",
   "id": "5355ff6d",
   "metadata": {},
   "source": [
    "- Trouver la fréquence d'apparition des lettres dans une chaine de caractères"
   ]
  },
  {
   "cell_type": "code",
   "execution_count": 8,
   "id": "2628265d",
   "metadata": {},
   "outputs": [],
   "source": [
    "s = \"Voici une chaine de caractères à analyser\"\n"
   ]
  },
  {
   "cell_type": "markdown",
   "id": "76d80888",
   "metadata": {},
   "source": [
    "## Dictionnaire de dictionnaire\n",
    "- Problème d'authentification"
   ]
  },
  {
   "cell_type": "code",
   "execution_count": 9,
   "id": "3c0ac453",
   "metadata": {},
   "outputs": [],
   "source": [
    "acces = {\"John\" : {\"login\" : \"Jo\", \"mdp\" : \"1234\"},\n",
    "\t      \"Alice\" : {\"login\" : \"Al\", \"mdp\" : \"password\"},\n",
    "\t      \"Kim\" : {\"login\" : \"SuperK\", \"mdp\" : \"54321\"}}\n",
    "\n",
    "\n"
   ]
  }
 ],
 "metadata": {
  "kernelspec": {
   "display_name": "Python 3",
   "language": "python",
   "name": "python3"
  },
  "language_info": {
   "codemirror_mode": {
    "name": "ipython",
    "version": 3
   },
   "file_extension": ".py",
   "mimetype": "text/x-python",
   "name": "python",
   "nbconvert_exporter": "python",
   "pygments_lexer": "ipython3",
   "version": "3.12.4"
  }
 },
 "nbformat": 4,
 "nbformat_minor": 5
}
