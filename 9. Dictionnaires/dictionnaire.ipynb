{
 "cells": [
  {
   "cell_type": "markdown",
   "id": "78961d51",
   "metadata": {},
   "source": [
    "# Les Dictionnaires"
   ]
  },
  {
   "cell_type": "markdown",
   "id": "24e08f4b",
   "metadata": {},
   "source": [
    "## Dictionnaires et listes\n",
    "- Créons une liste pour notre client\n",
    "- Créons un dictionnaire pour notre client"
   ]
  },
  {
   "cell_type": "code",
   "execution_count": 3,
   "id": "8e2d20bf",
   "metadata": {},
   "outputs": [
    {
     "name": "stdout",
     "output_type": "stream",
     "text": [
      "Doe\n",
      "47\n",
      "Doe\n",
      "47\n",
      "Bob\n"
     ]
    }
   ],
   "source": [
    "client = [\"Doe\", \"John\", 47]\n",
    "print(client[0])\n",
    "print(client[2])\n",
    "\n",
    "client = {\"nom\" : \"Doe\", \"prenom\" : \"John\", \"age\" : 47}\n",
    "print(client[\"nom\"])\n",
    "print(client[\"age\"])\n",
    "# print(client[\"truc\"]) # Erreur, la clé n'est pas dans le dictionnaire\n",
    "client[\"prenom\"] = \"Bob\"\n",
    "print(client[\"prenom\"])\n"
   ]
  },
  {
   "cell_type": "markdown",
   "id": "460f377b",
   "metadata": {},
   "source": [
    "## Les clés et les valeurs\n",
    "- Affichons les clés d'un dictionnaire : .keys()\n",
    "- Affichons les valeurs d'un dictionnaire : .values()\n",
    "- Affichons les couples clé/valeur d'un dictionnaire : .items()"
   ]
  },
  {
   "cell_type": "code",
   "execution_count": 4,
   "id": "df4f4571",
   "metadata": {},
   "outputs": [
    {
     "name": "stdout",
     "output_type": "stream",
     "text": [
      "dict_keys(['nom', 'prenom', 'age'])\n",
      "dict_values(['Doe', 'John', 47])\n",
      "dict_items([('nom', 'Doe'), ('prenom', 'John'), ('age', 47)])\n"
     ]
    }
   ],
   "source": [
    "client = {\"nom\" : \"Doe\", \"prenom\" : \"John\", \"age\" : 47}\n",
    "print(client.keys())\n",
    "print(client.values())\n",
    "print(client.items())"
   ]
  },
  {
   "cell_type": "markdown",
   "id": "27d13c1a",
   "metadata": {},
   "source": [
    "## Existence d'une clé\n",
    "- Utilisons un dictionnaire et vérifions ses clés"
   ]
  },
  {
   "cell_type": "code",
   "execution_count": 9,
   "id": "129fe62b",
   "metadata": {},
   "outputs": [
    {
     "name": "stdout",
     "output_type": "stream",
     "text": [
      "Le client a déjà un nom\n",
      "Le client a pour nom : Doe\n"
     ]
    }
   ],
   "source": [
    "client = {\"nom\" : \"Doe\", \"prenom\" : \"John\", \"age\" : 47}\n",
    "\n",
    "if \"nom\" in client:\n",
    "    print(\"Le client a déjà un nom\")\n",
    "else:\n",
    "    client[\"nom\"] = input(\"Donner le nom du client\")\n",
    "\n",
    "print(\"Le client a pour nom :\", client[\"nom\"])"
   ]
  },
  {
   "cell_type": "markdown",
   "id": "12c3b334",
   "metadata": {},
   "source": [
    "## Dictionnaire et boucles\n",
    "- Utilisons 3 types de boucles pour parcourir un dictionnaire"
   ]
  },
  {
   "cell_type": "code",
   "execution_count": 8,
   "id": "012bb9ef",
   "metadata": {},
   "outputs": [
    {
     "name": "stdout",
     "output_type": "stream",
     "text": [
      "Pour la clé nom la valeur est Doe\n",
      "Pour la clé prenom la valeur est John\n",
      "Pour la clé age la valeur est 47\n",
      "**************************************************\n",
      "La valeur est Doe\n",
      "La valeur est John\n",
      "La valeur est 47\n",
      "**************************************************\n",
      "Pour la clé nom la valeur est Doe\n",
      "Pour la clé prenom la valeur est John\n",
      "Pour la clé age la valeur est 47\n"
     ]
    }
   ],
   "source": [
    "client = {\"nom\" : \"Doe\", \"prenom\" : \"John\", \"age\" : 47}\n",
    "\n",
    "for element in client.keys():\n",
    "    print(\"Pour la clé\",element,\"la valeur est\", client[element])\n",
    "\n",
    "print(50*\"*\")\n",
    "\n",
    "for element in client.values():\n",
    "    print(\"La valeur est\", element)\n",
    "\n",
    "print(50*\"*\")\n",
    "\n",
    "for cle,valeur in client.items():\n",
    "    print(\"Pour la clé\",cle,\"la valeur est\", valeur)\n"
   ]
  },
  {
   "cell_type": "markdown",
   "id": "768b3592",
   "metadata": {},
   "source": [
    "- Trouver les gens de plus de 30 ans\n",
    "- Calculer la moyenne des âges"
   ]
  },
  {
   "cell_type": "code",
   "execution_count": 2,
   "id": "8cfb7227",
   "metadata": {},
   "outputs": [
    {
     "name": "stdout",
     "output_type": "stream",
     "text": [
      "Personnes de plus de 30 ans\n",
      "Chloé\n",
      "John\n",
      "Alice\n",
      "Age moyen : 31.4\n"
     ]
    }
   ],
   "source": [
    "age = {\"Chloé\" : 49, \"Sandra\" : 17, \"Jo\" : 8, \"John\" : 48, \"Alice\" : 35}\n",
    "\n",
    "moyenne = 0\n",
    "print(\"Personnes de plus de 30 ans\")\n",
    "for cle, valeur in age.items():\n",
    "    moyenne += valeur\n",
    "    if valeur >30:\n",
    "        print(cle)\n",
    "\n",
    "moyenne /= len(age)\n",
    "print(\"Age moyen :\", moyenne)"
   ]
  },
  {
   "cell_type": "markdown",
   "id": "075c35cf",
   "metadata": {},
   "source": [
    "## Valeurs par défaut\n",
    "- Récupérer une valeur par défaut"
   ]
  },
  {
   "cell_type": "code",
   "execution_count": 13,
   "id": "1b3a2876",
   "metadata": {},
   "outputs": [
    {
     "name": "stdout",
     "output_type": "stream",
     "text": [
      "47\n",
      "47\n"
     ]
    }
   ],
   "source": [
    "client = {\"nom\" : \"Doe\", \"prenom\" : \"John\", \"age\" : 47}\n",
    "if \"age\" in client.keys():\n",
    "\tageClient = client[\"age\"]\n",
    "else:\n",
    "\tageClient = 0\n",
    "print(ageClient)\n",
    "\n",
    "ageClient = client.get(\"age\", 0)\n",
    "print(ageClient)\n"
   ]
  },
  {
   "cell_type": "markdown",
   "id": "bcdd4ea9",
   "metadata": {},
   "source": [
    "- Ajouter dans le dictionnaire une valeur par défaut"
   ]
  },
  {
   "cell_type": "code",
   "execution_count": null,
   "id": "6c39c0cc",
   "metadata": {},
   "outputs": [
    {
     "name": "stdout",
     "output_type": "stream",
     "text": [
      "0\n"
     ]
    }
   ],
   "source": [
    "client = {\"nom\" : \"Doe\", \"prenom\" : \"John\", \"age\" : 47}\n",
    "\n",
    "if \"age\" not in client.keys():\n",
    "\tclient[\"age\"] = 0\n",
    "\n",
    "client.setdefault(\"age\", 0)\n",
    "print(client[\"age\"])\n"
   ]
  },
  {
   "cell_type": "markdown",
   "id": "5355ff6d",
   "metadata": {},
   "source": [
    "- Trouver la fréquence d'apparition des lettres dans une chaine de caractères"
   ]
  },
  {
   "cell_type": "code",
   "execution_count": 3,
   "id": "2628265d",
   "metadata": {},
   "outputs": [
    {
     "name": "stdout",
     "output_type": "stream",
     "text": [
      "La lettre V apparait 1 fois\n",
      "La lettre o apparait 1 fois\n",
      "La lettre i apparait 3 fois\n",
      "La lettre c apparait 4 fois\n",
      "La lettre   apparait 6 fois\n",
      "La lettre u apparait 1 fois\n",
      "La lettre n apparait 3 fois\n",
      "La lettre e apparait 5 fois\n",
      "La lettre h apparait 1 fois\n",
      "La lettre a apparait 5 fois\n",
      "La lettre d apparait 1 fois\n",
      "La lettre r apparait 3 fois\n",
      "La lettre t apparait 1 fois\n",
      "La lettre è apparait 1 fois\n",
      "La lettre s apparait 2 fois\n",
      "La lettre à apparait 1 fois\n",
      "La lettre l apparait 1 fois\n",
      "La lettre y apparait 1 fois\n"
     ]
    }
   ],
   "source": [
    "s = \"Voici une chaine de caractères à analyser\"\n",
    "d = {}\n",
    "\n",
    "for element in s:\n",
    "    d.setdefault(element, 0)\n",
    "    d[element] += 1\n",
    "\n",
    "for cle, valeur in d.items():\n",
    "    print(\"La lettre\",cle,\"apparait\",valeur,\"fois\")"
   ]
  },
  {
   "cell_type": "markdown",
   "id": "76d80888",
   "metadata": {},
   "source": [
    "## Dictionnaire de dictionnaire\n",
    "- Problème d'authentification"
   ]
  },
  {
   "cell_type": "code",
   "execution_count": 4,
   "id": "3c0ac453",
   "metadata": {},
   "outputs": [
    {
     "name": "stdout",
     "output_type": "stream",
     "text": [
      "Jo\n",
      "Bonjour Alice\n"
     ]
    }
   ],
   "source": [
    "acces = {\"John\" : {\"login\" : \"Jo\", \"mdp\" : \"1234\"},\n",
    "\t      \"Alice\" : {\"login\" : \"Al\", \"mdp\" : \"password\"},\n",
    "\t      \"Kim\" : {\"login\" : \"SuperK\", \"mdp\" : \"54321\"}}\n",
    "\n",
    "print(acces[\"John\"][\"login\"])\n",
    "\n",
    "log = input(\"Donner le login :\")\n",
    "mdp = input(\"Donner le mot de passe :\")\n",
    "\n",
    "for cle, valeur in acces.items():\n",
    "    if valeur[\"login\"] == log and valeur[\"mdp\"] == mdp:\n",
    "        print(\"Bonjour\",cle)\n"
   ]
  }
 ],
 "metadata": {
  "kernelspec": {
   "display_name": "Python 3",
   "language": "python",
   "name": "python3"
  },
  "language_info": {
   "codemirror_mode": {
    "name": "ipython",
    "version": 3
   },
   "file_extension": ".py",
   "mimetype": "text/x-python",
   "name": "python",
   "nbconvert_exporter": "python",
   "pygments_lexer": "ipython3",
   "version": "3.12.4"
  }
 },
 "nbformat": 4,
 "nbformat_minor": 5
}
